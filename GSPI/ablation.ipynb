{
 "cells": [
  {
   "cell_type": "code",
   "execution_count": 1,
   "metadata": {},
   "outputs": [
    {
     "name": "stderr",
     "output_type": "stream",
     "text": [
      "/home/wuxinchao/software/miniconda3/envs/pytorch-gpu/lib/python3.9/site-packages/tqdm/auto.py:22: TqdmWarning: IProgress not found. Please update jupyter and ipywidgets. See https://ipywidgets.readthedocs.io/en/stable/user_install.html\n",
      "  from .autonotebook import tqdm as notebook_tqdm\n"
     ]
    }
   ],
   "source": [
    "import os\n",
    "import scanpy as sc\n",
    "import muon as mu\n",
    "import numpy as np\n",
    "import pandas as pd\n",
    "import matplotlib.pyplot as plt\n",
    "import seaborn as sns\n",
    "import anndata as ad\n",
    "\n",
    "import torch\n",
    "import torch.nn as nn\n",
    "import torch.nn.functional as F\n",
    "\n",
    "from torch_geometric.data import Data\n",
    "from torch_geometric.transforms import RandomNodeSplit, RandomLinkSplit\n",
    "from torch_geometric.loader import DataLoader, NeighborLoader"
   ]
  },
  {
   "cell_type": "code",
   "execution_count": 2,
   "metadata": {},
   "outputs": [],
   "source": [
    "# Plotting settings\n",
    "\n",
    "colors = [\"#3B7EA1\", \"#FDB515\", \"#D9661F\", \"#859438\", \"#EE1F60\", \"#00A598\"]\n",
    "sns.set(context=\"notebook\", font_scale=1.3, style=\"ticks\")\n",
    "sns.set_palette(sns.color_palette(colors))\n",
    "plt.rcParams['svg.fonttype'] = 'none'\n",
    "plt.rcParams['pdf.fonttype'] = 42\n",
    "plt.rcParams['savefig.transparent'] = True\n",
    "sc.settings._vector_friendly = True\n",
    "DPI = 300\n",
    "# GPU settings\n",
    "\n",
    "os.environ[\"CUDA_DEVICE_ORDER\"] = \"PCI_BUS_ID\"\n",
    "os.environ[\"CUDA_VISIBLE_DEVICES\"] = \"0\""
   ]
  },
  {
   "cell_type": "code",
   "execution_count": 3,
   "metadata": {},
   "outputs": [],
   "source": [
    "\n",
    "# data_path\n",
    "save_path = \"/home/wuxinchao/data/st_cite_data/totalVI_reproducibility/data/\"\n",
    "mdata = mu.read_h5mu(save_path + \"/SNL_111.h5mu\")\n",
    "rna = mdata.mod[\"rna\"]\n",
    "protein = mdata.mod[\"prot\"]"
   ]
  },
  {
   "cell_type": "markdown",
   "metadata": {},
   "source": [
    "# Preprocess"
   ]
  },
  {
   "cell_type": "code",
   "execution_count": 8,
   "metadata": {},
   "outputs": [],
   "source": [
    "# RNA\n",
    "sc.pp.normalize_total(rna)\n",
    "sc.pp.log1p(rna)\n",
    "rna.obs_names_make_unique()"
   ]
  },
  {
   "cell_type": "code",
   "execution_count": 9,
   "metadata": {},
   "outputs": [],
   "source": [
    "from muon import prot as pt\n",
    "\n",
    "pt.pp.clr(protein)\n",
    "mdata.update()"
   ]
  },
  {
   "cell_type": "markdown",
   "metadata": {},
   "source": [
    "# Data input"
   ]
  },
  {
   "cell_type": "markdown",
   "metadata": {},
   "source": [
    "## Spatial Data"
   ]
  },
  {
   "cell_type": "code",
   "execution_count": 4,
   "metadata": {},
   "outputs": [],
   "source": [
    "data_path = \"/home/wuxinchao/data/st_cite_data/\"\n",
    "prot_data_path = \"B01825A4_protein_filter.csv\"\n",
    "rna_data_path = \"B01825A4_rna_raw.csv\""
   ]
  },
  {
   "cell_type": "code",
   "execution_count": null,
   "metadata": {},
   "outputs": [],
   "source": [
    "from utils import construct_spatial_adata\n",
    "\n",
    "sp_mudata = construct_spatial_adata(\n",
    "    data_path, \n",
    "    rna_data=rna_data_path, \n",
    "    prot_data=prot_data_path\n",
    ")\n",
    "sp_mudata"
   ]
  },
  {
   "cell_type": "code",
   "execution_count": null,
   "metadata": {},
   "outputs": [],
   "source": [
    "rna_adata = sp_mudata.mod[\"rna\"]\n",
    "prot_adata = sp_mudata.mod[\"prot\"]"
   ]
  },
  {
   "cell_type": "code",
   "execution_count": 10,
   "metadata": {},
   "outputs": [
    {
     "name": "stderr",
     "output_type": "stream",
     "text": [
      "/home/wuxinchao/software/miniconda3/envs/pytorch-gpu/lib/python3.9/site-packages/scanpy/preprocessing/_normalization.py:197: UserWarning: Some cells have zero counts\n",
      "  warn(UserWarning('Some cells have zero counts'))\n",
      "/home/wuxinchao/software/miniconda3/envs/pytorch-gpu/lib/python3.9/site-packages/scanpy/preprocessing/_highly_variable_genes.py:62: UserWarning: `flavor='seurat_v3'` expects raw count data, but non-integers were found.\n",
      "  warnings.warn(\n"
     ]
    }
   ],
   "source": [
    "sc.pp.normalize_total(rna_adata)\n",
    "sc.pp.log1p(rna_adata)\n",
    "rna_adata.obs_names_make_unique()\n",
    "rna_adata.var['mt'] = rna_adata.var_names.str.startswith('MT-')\n",
    "rna_adata.layers[\"counts\"] = rna_adata.X.copy()\n",
    "sc.pp.highly_variable_genes(\n",
    "    rna_adata,\n",
    "    n_top_genes=2000,\n",
    "    flavor=\"seurat_v3\",\n",
    "    layer=\"counts\",\n",
    ")\n",
    "\n",
    "sc.pp.scale(rna_adata, max_value=10)\n",
    "sc.tl.pca(rna_adata, svd_solver=\"arpack\")\n",
    "# sc.pl.pca_variance_ratio(rna_adata, log=True)\n",
    "sc.pp.neighbors(rna_adata, n_pcs=50)\n",
    "sc.tl.umap(rna_adata)"
   ]
  },
  {
   "cell_type": "code",
   "execution_count": 11,
   "metadata": {},
   "outputs": [],
   "source": [
    "from muon import prot as pt\n",
    "\n",
    "pt.pp.clr(prot_adata)\n",
    "sp_mudata.update()"
   ]
  },
  {
   "cell_type": "code",
   "execution_count": 12,
   "metadata": {},
   "outputs": [],
   "source": [
    "sp_mudata.write_h5mu(data_path + \"sp_mudata.h5mu\")"
   ]
  },
  {
   "cell_type": "code",
   "execution_count": 5,
   "metadata": {},
   "outputs": [
    {
     "data": {
      "text/html": [
       "<pre>MuData object with n_obs × n_vars = 8628 × 25828\n",
       "  obsm:\t&#x27;spatial&#x27;\n",
       "  2 modalities\n",
       "    rna:\t8628 x 25818\n",
       "      var:\t&#x27;mt&#x27;, &#x27;highly_variable&#x27;, &#x27;highly_variable_rank&#x27;, &#x27;means&#x27;, &#x27;variances&#x27;, &#x27;variances_norm&#x27;, &#x27;mean&#x27;, &#x27;std&#x27;\n",
       "      uns:\t&#x27;hvg&#x27;, &#x27;log1p&#x27;, &#x27;neighbors&#x27;, &#x27;pca&#x27;, &#x27;umap&#x27;\n",
       "      obsm:\t&#x27;X_pca&#x27;, &#x27;X_umap&#x27;, &#x27;spatial&#x27;\n",
       "      varm:\t&#x27;PCs&#x27;\n",
       "      layers:\t&#x27;counts&#x27;\n",
       "      obsp:\t&#x27;connectivities&#x27;, &#x27;distances&#x27;\n",
       "    prot:\t8628 x 10\n",
       "      obsm:\t&#x27;spatial&#x27;</pre>"
      ],
      "text/plain": [
       "MuData object with n_obs × n_vars = 8628 × 25828\n",
       "  obsm:\t'spatial'\n",
       "  2 modalities\n",
       "    rna:\t8628 x 25818\n",
       "      var:\t'mt', 'highly_variable', 'highly_variable_rank', 'means', 'variances', 'variances_norm', 'mean', 'std'\n",
       "      uns:\t'hvg', 'log1p', 'neighbors', 'pca', 'umap'\n",
       "      obsm:\t'X_pca', 'X_umap', 'spatial'\n",
       "      varm:\t'PCs'\n",
       "      layers:\t'counts'\n",
       "      obsp:\t'connectivities', 'distances'\n",
       "    prot:\t8628 x 10\n",
       "      obsm:\t'spatial'"
      ]
     },
     "execution_count": 5,
     "metadata": {},
     "output_type": "execute_result"
    }
   ],
   "source": [
    "sp_mudata = mu.read_h5mu(data_path + \"sp_mudata.h5mu\")\n",
    "sp_mudata"
   ]
  },
  {
   "cell_type": "code",
   "execution_count": 6,
   "metadata": {},
   "outputs": [],
   "source": [
    "rna_adata = sp_mudata.mod[\"rna\"]\n",
    "prot_adata = sp_mudata.mod[\"prot\"]"
   ]
  },
  {
   "cell_type": "markdown",
   "metadata": {},
   "source": [
    "# Training with model"
   ]
  },
  {
   "cell_type": "code",
   "execution_count": 7,
   "metadata": {},
   "outputs": [
    {
     "name": "stderr",
     "output_type": "stream",
     "text": [
      "/tmp/ipykernel_1439555/1871230178.py:12: UserWarning: Creating a tensor from a list of numpy.ndarrays is extremely slow. Please consider converting the list to a single numpy.ndarray with numpy.array() before converting to a tensor. (Triggered internally at ../torch/csrc/utils/tensor_new.cpp:245.)\n",
      "  edge_index = torch.tensor(edge_index,\n"
     ]
    }
   ],
   "source": [
    "concat_data = np.concatenate(\n",
    "    [rna_adata.X, prot_adata.X], axis=1\n",
    ")\n",
    "\n",
    "concat_spatial_encoding_data = np.concatenate(\n",
    "    [rna_adata.X, prot_adata.X, sp_mudata.obsm[\"spatial\"]], \n",
    "    axis=1\n",
    ")\n",
    "\n",
    "adj_mtx = rna_adata.obsp['connectivities'].toarray()\n",
    "edge_index = adj_mtx.nonzero()\n",
    "edge_index = torch.tensor(edge_index, \n",
    "        dtype=torch.long).contiguous()\n",
    "\n",
    "scCITEseq_data = Data(x=torch.tensor(\n",
    "    concat_data, dtype=torch.float), \n",
    "    edge_index=edge_index)\n",
    "\n",
    "spCITEseq_data = Data(x=torch.tensor(\n",
    "    concat_spatial_encoding_data, dtype=torch.float), \n",
    "    edge_index=edge_index)"
   ]
  },
  {
   "cell_type": "code",
   "execution_count": 8,
   "metadata": {},
   "outputs": [],
   "source": [
    "num_splits = 2\n",
    "num_val = 0.2\n",
    "num_test = 0.2\n",
    "\n",
    "tsf = RandomNodeSplit(num_splits=num_splits, \n",
    "                      num_val=num_val, \n",
    "                      num_test=num_test, \n",
    "                      key=None\n",
    "                      )\n",
    "training_data = tsf(scCITEseq_data)\n",
    "spatial_training_data = tsf(spCITEseq_data)"
   ]
  },
  {
   "cell_type": "code",
   "execution_count": 12,
   "metadata": {},
   "outputs": [],
   "source": [
    "# setting for the model\n",
    "rna_input_dim = rna_adata.shape[1]\n",
    "prot_input_dim = prot_adata.shape[1]\n",
    "hidden_dim = 32\n",
    "embedding_dim = 32\n",
    "heads = 4\n",
    "num_blocks = 2\n",
    "permute = True\n",
    "preserve_rate = 0.2\n",
    "alpha = 0.4\n",
    "beta = 0.4\n",
    "\n",
    "# setting for the trainer\n",
    "batch_size = 256\n",
    "epochs = 25\n",
    "mask_ratio = 0.85\n",
    "num_splits = 2\n",
    "device = torch.device(\n",
    "    'cuda' if torch.cuda.is_available() else 'cpu')"
   ]
  },
  {
   "cell_type": "code",
   "execution_count": 13,
   "metadata": {},
   "outputs": [],
   "source": [
    "from train import Trainer"
   ]
  },
  {
   "cell_type": "code",
   "execution_count": 15,
   "metadata": {},
   "outputs": [
    {
     "name": "stdout",
     "output_type": "stream",
     "text": [
      "Epoch 1/25 train_loss: 0.00420 val_loss: 0.00053\n",
      "Epoch 2/25 train_loss: 0.00030 val_loss: 0.00024\n",
      "Epoch 3/25 train_loss: 0.00014 val_loss: 0.00020\n",
      "Epoch 4/25 train_loss: 0.00010 val_loss: 0.00020\n",
      "Epoch 5/25 train_loss: 0.00009 val_loss: 0.00020\n",
      "Epoch 6/25 train_loss: 0.00007 val_loss: 0.00019\n",
      "Epoch 7/25 train_loss: 0.00007 val_loss: 0.00019\n",
      "Epoch 8/25 train_loss: 0.00006 val_loss: 0.00019\n",
      "Epoch 9/25 train_loss: 0.00005 val_loss: 0.00020\n",
      "Epoch 10/25 train_loss: 0.00004 val_loss: 0.00019\n",
      "Epoch 11/25 train_loss: 0.00004 val_loss: 0.00019\n",
      "Epoch 12/25 train_loss: 0.00003 val_loss: 0.00018\n",
      "Epoch 13/25 train_loss: 0.00003 val_loss: 0.00019\n",
      "Epoch 14/25 train_loss: 0.00003 val_loss: 0.00018\n",
      "Epoch 15/25 train_loss: 0.00002 val_loss: 0.00018\n",
      "Epoch 16/25 train_loss: 0.00002 val_loss: 0.00019\n",
      "Epoch 17/25 train_loss: 0.00002 val_loss: 0.00019\n",
      "Epoch 18/25 train_loss: 0.00002 val_loss: 0.00019\n",
      "Epoch 19/25 train_loss: 0.00002 val_loss: 0.00019\n",
      "Epoch 20/25 train_loss: 0.00001 val_loss: 0.00019\n",
      "Epoch 21/25 train_loss: 0.00001 val_loss: 0.00018\n",
      "Epoch 22/25 train_loss: 0.00001 val_loss: 0.00019\n",
      "Epoch 23/25 train_loss: 0.00001 val_loss: 0.00018\n",
      "Epoch 24/25 train_loss: 0.00001 val_loss: 0.00019\n",
      "Epoch 25/25 train_loss: 0.00001 val_loss: 0.00019\n",
      "Epoch 1/25 train_loss: 0.00282 val_loss: 0.00053\n",
      "Epoch 2/25 train_loss: 0.00029 val_loss: 0.00030\n",
      "Epoch 3/25 train_loss: 0.00017 val_loss: 0.00026\n",
      "Epoch 4/25 train_loss: 0.00012 val_loss: 0.00024\n",
      "Epoch 5/25 train_loss: 0.00010 val_loss: 0.00024\n",
      "Epoch 6/25 train_loss: 0.00009 val_loss: 0.00023\n",
      "Epoch 7/25 train_loss: 0.00008 val_loss: 0.00022\n",
      "Epoch 8/25 train_loss: 0.00007 val_loss: 0.00022\n",
      "Epoch 9/25 train_loss: 0.00006 val_loss: 0.00021\n",
      "Epoch 10/25 train_loss: 0.00006 val_loss: 0.00020\n",
      "Epoch 11/25 train_loss: 0.00005 val_loss: 0.00020\n",
      "Epoch 12/25 train_loss: 0.00004 val_loss: 0.00020\n",
      "Epoch 13/25 train_loss: 0.00003 val_loss: 0.00020\n",
      "Epoch 14/25 train_loss: 0.00003 val_loss: 0.00021\n",
      "Epoch 15/25 train_loss: 0.00003 val_loss: 0.00021\n",
      "Epoch 16/25 train_loss: 0.00002 val_loss: 0.00020\n",
      "Epoch 17/25 train_loss: 0.00002 val_loss: 0.00021\n",
      "Epoch 18/25 train_loss: 0.00002 val_loss: 0.00021\n",
      "Epoch 19/25 train_loss: 0.00002 val_loss: 0.00020\n",
      "Epoch 20/25 train_loss: 0.00002 val_loss: 0.00021\n",
      "Epoch 21/25 train_loss: 0.00002 val_loss: 0.00020\n",
      "Epoch 22/25 train_loss: 0.00002 val_loss: 0.00020\n",
      "Epoch 23/25 train_loss: 0.00001 val_loss: 0.00020\n",
      "Epoch 24/25 train_loss: 0.00001 val_loss: 0.00021\n",
      "Epoch 25/25 train_loss: 0.00001 val_loss: 0.00020\n",
      "Best model saved at split 0\n"
     ]
    }
   ],
   "source": [
    "model_choice = \"Graph Cross Attention\"\n",
    "\n",
    "trainer = Trainer(\n",
    "    training_data, \n",
    "    model_choice=model_choice, \n",
    "    rna_input_dim=rna_input_dim, \n",
    "    prot_input_dim=prot_input_dim,\n",
    "    hidden_dim=hidden_dim,\n",
    "    embedding_dim=embedding_dim,\n",
    "    heads=heads,\n",
    "    num_blocks=num_blocks, \n",
    "    batch_size=batch_size,\n",
    "    epochs=epochs,\n",
    "    mask_ratio=mask_ratio,\n",
    "    permute=permute,\n",
    "    preserve_rate=preserve_rate,\n",
    "    num_splits=num_splits,\n",
    "    device=device,\n",
    "    alpha=alpha,\n",
    "    beta=beta,\n",
    "    )\n",
    "\n",
    "train_losses, val_losses = trainer.train()"
   ]
  },
  {
   "cell_type": "code",
   "execution_count": 16,
   "metadata": {},
   "outputs": [
    {
     "name": "stdout",
     "output_type": "stream",
     "text": [
      "Epoch 1/25 train_loss: nan val_loss: nan\n",
      "Epoch 2/25 train_loss: nan val_loss: nan\n",
      "Epoch 3/25 train_loss: nan val_loss: nan\n",
      "Epoch 4/25 train_loss: nan val_loss: nan\n",
      "Epoch 5/25 train_loss: nan val_loss: nan\n",
      "Epoch 6/25 train_loss: nan val_loss: nan\n",
      "Epoch 7/25 train_loss: nan val_loss: nan\n",
      "Epoch 8/25 train_loss: nan val_loss: nan\n",
      "Epoch 9/25 train_loss: nan val_loss: nan\n",
      "Epoch 10/25 train_loss: nan val_loss: nan\n",
      "Epoch 11/25 train_loss: nan val_loss: nan\n",
      "Epoch 12/25 train_loss: nan val_loss: nan\n",
      "Epoch 13/25 train_loss: nan val_loss: nan\n",
      "Epoch 14/25 train_loss: nan val_loss: nan\n",
      "Epoch 15/25 train_loss: nan val_loss: nan\n",
      "Epoch 16/25 train_loss: nan val_loss: nan\n",
      "Epoch 17/25 train_loss: nan val_loss: nan\n",
      "Epoch 18/25 train_loss: nan val_loss: nan\n",
      "Epoch 19/25 train_loss: nan val_loss: nan\n",
      "Epoch 20/25 train_loss: nan val_loss: nan\n",
      "Epoch 21/25 train_loss: nan val_loss: nan\n",
      "Epoch 22/25 train_loss: nan val_loss: nan\n",
      "Epoch 23/25 train_loss: nan val_loss: nan\n",
      "Epoch 24/25 train_loss: nan val_loss: nan\n",
      "Epoch 25/25 train_loss: nan val_loss: nan\n",
      "Epoch 1/25 train_loss: nan val_loss: nan\n",
      "Epoch 2/25 train_loss: nan val_loss: nan\n",
      "Epoch 3/25 train_loss: nan val_loss: nan\n",
      "Epoch 4/25 train_loss: nan val_loss: nan\n",
      "Epoch 5/25 train_loss: nan val_loss: nan\n",
      "Epoch 6/25 train_loss: nan val_loss: nan\n",
      "Epoch 7/25 train_loss: nan val_loss: nan\n",
      "Epoch 8/25 train_loss: nan val_loss: nan\n",
      "Epoch 9/25 train_loss: nan val_loss: nan\n",
      "Epoch 10/25 train_loss: nan val_loss: nan\n",
      "Epoch 11/25 train_loss: nan val_loss: nan\n",
      "Epoch 12/25 train_loss: nan val_loss: nan\n",
      "Epoch 13/25 train_loss: nan val_loss: nan\n",
      "Epoch 14/25 train_loss: nan val_loss: nan\n",
      "Epoch 15/25 train_loss: nan val_loss: nan\n",
      "Epoch 16/25 train_loss: nan val_loss: nan\n",
      "Epoch 17/25 train_loss: nan val_loss: nan\n",
      "Epoch 18/25 train_loss: nan val_loss: nan\n",
      "Epoch 19/25 train_loss: nan val_loss: nan\n",
      "Epoch 20/25 train_loss: nan val_loss: nan\n",
      "Epoch 21/25 train_loss: nan val_loss: nan\n",
      "Epoch 22/25 train_loss: nan val_loss: nan\n",
      "Epoch 23/25 train_loss: nan val_loss: nan\n",
      "Epoch 24/25 train_loss: nan val_loss: nan\n",
      "Epoch 25/25 train_loss: nan val_loss: nan\n",
      "Best model saved at split 0\n"
     ]
    }
   ],
   "source": [
    "model_choice = \"Spatial Graph Cross Attention\"\n",
    "\n",
    "spatial_trainer = Trainer(\n",
    "    spatial_training_data, \n",
    "    model_choice=model_choice, \n",
    "    rna_input_dim=rna_input_dim, \n",
    "    prot_input_dim=prot_input_dim,\n",
    "    hidden_dim=hidden_dim,\n",
    "    embedding_dim=embedding_dim,\n",
    "    heads=heads,\n",
    "    num_blocks=num_blocks, \n",
    "    batch_size=batch_size,\n",
    "    epochs=epochs,\n",
    "    mask_ratio=mask_ratio,\n",
    "    permute=permute,\n",
    "    preserve_rate=preserve_rate,\n",
    "    num_splits=num_splits,\n",
    "    device=device,\n",
    "    alpha=alpha,\n",
    "    beta=beta,\n",
    "    )\n",
    "\n",
    "spatial_train_losses, spatial_val_losses = spatial_trainer.train()"
   ]
  },
  {
   "cell_type": "code",
   "execution_count": null,
   "metadata": {},
   "outputs": [],
   "source": []
  },
  {
   "cell_type": "code",
   "execution_count": null,
   "metadata": {},
   "outputs": [],
   "source": []
  },
  {
   "cell_type": "code",
   "execution_count": null,
   "metadata": {},
   "outputs": [],
   "source": []
  }
 ],
 "metadata": {
  "kernelspec": {
   "display_name": "pytorch-gpu",
   "language": "python",
   "name": "python3"
  },
  "language_info": {
   "codemirror_mode": {
    "name": "ipython",
    "version": 3
   },
   "file_extension": ".py",
   "mimetype": "text/x-python",
   "name": "python",
   "nbconvert_exporter": "python",
   "pygments_lexer": "ipython3",
   "version": "3.9.13"
  }
 },
 "nbformat": 4,
 "nbformat_minor": 2
}
