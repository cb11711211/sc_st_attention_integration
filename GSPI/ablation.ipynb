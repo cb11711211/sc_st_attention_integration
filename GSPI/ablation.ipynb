{
 "cells": [
  {
   "cell_type": "code",
   "execution_count": 1,
   "metadata": {},
   "outputs": [
    {
     "name": "stderr",
     "output_type": "stream",
     "text": [
      "/home/wuxinchao/software/miniconda3/envs/pytorch-gpu/lib/python3.9/site-packages/tqdm/auto.py:22: TqdmWarning: IProgress not found. Please update jupyter and ipywidgets. See https://ipywidgets.readthedocs.io/en/stable/user_install.html\n",
      "  from .autonotebook import tqdm as notebook_tqdm\n"
     ]
    }
   ],
   "source": [
    "import os\n",
    "import scanpy as sc\n",
    "import muon as mu\n",
    "import numpy as np\n",
    "import pandas as pd\n",
    "import matplotlib.pyplot as plt\n",
    "import seaborn as sns\n",
    "import anndata as ad\n",
    "\n",
    "import torch\n",
    "import torch.nn as nn\n",
    "import torch.nn.functional as F\n",
    "\n",
    "from torch_geometric.data import Data\n",
    "from torch_geometric.transforms import RandomNodeSplit, RandomLinkSplit\n",
    "from torch_geometric.loader import DataLoader, NeighborLoader"
   ]
  },
  {
   "cell_type": "code",
   "execution_count": 2,
   "metadata": {},
   "outputs": [],
   "source": [
    "# Plotting settings\n",
    "\n",
    "colors = [\"#3B7EA1\", \"#FDB515\", \"#D9661F\", \"#859438\", \"#EE1F60\", \"#00A598\"]\n",
    "sns.set(context=\"notebook\", font_scale=1.3, style=\"ticks\")\n",
    "sns.set_palette(sns.color_palette(colors))\n",
    "plt.rcParams['svg.fonttype'] = 'none'\n",
    "plt.rcParams['pdf.fonttype'] = 42\n",
    "plt.rcParams['savefig.transparent'] = True\n",
    "sc.settings._vector_friendly = True\n",
    "DPI = 300\n",
    "# GPU settings\n",
    "\n",
    "os.environ[\"CUDA_DEVICE_ORDER\"] = \"PCI_BUS_ID\"\n",
    "os.environ[\"CUDA_VISIBLE_DEVICES\"] = \"0\""
   ]
  },
  {
   "cell_type": "code",
   "execution_count": 7,
   "metadata": {},
   "outputs": [],
   "source": [
    "\n",
    "# data_path\n",
    "save_path = \"/home/wuxinchao/data/st_cite_data/totalVI_reproducibility/data/\"\n",
    "mdata = mu.read_h5mu(save_path + \"/SNL_111.h5mu\")\n",
    "rna = mdata.mod[\"rna\"]\n",
    "protein = mdata.mod[\"prot\"]"
   ]
  },
  {
   "cell_type": "markdown",
   "metadata": {},
   "source": [
    "# Preprocess"
   ]
  },
  {
   "cell_type": "code",
   "execution_count": 8,
   "metadata": {},
   "outputs": [],
   "source": [
    "# RNA\n",
    "sc.pp.normalize_total(rna)\n",
    "sc.pp.log1p(rna)\n",
    "rna.obs_names_make_unique()"
   ]
  },
  {
   "cell_type": "code",
   "execution_count": 9,
   "metadata": {},
   "outputs": [],
   "source": [
    "from muon import prot as pt\n",
    "\n",
    "pt.pp.clr(protein)\n",
    "mdata.update()"
   ]
  },
  {
   "cell_type": "markdown",
   "metadata": {},
   "source": [
    "# data input"
   ]
  },
  {
   "cell_type": "code",
   "execution_count": 3,
   "metadata": {},
   "outputs": [
    {
     "ename": "NameError",
     "evalue": "name 'rna' is not defined",
     "output_type": "error",
     "traceback": [
      "\u001b[0;31m---------------------------------------------------------------------------\u001b[0m",
      "\u001b[0;31mNameError\u001b[0m                                 Traceback (most recent call last)",
      "Cell \u001b[0;32mIn [3], line 1\u001b[0m\n\u001b[0;32m----> 1\u001b[0m concat_data \u001b[38;5;241m=\u001b[39m np\u001b[38;5;241m.\u001b[39mconcatenate([rna\u001b[38;5;241m.\u001b[39mX, protein\u001b[38;5;241m.\u001b[39mX], axis\u001b[38;5;241m=\u001b[39m\u001b[38;5;241m1\u001b[39m)\n\u001b[1;32m      3\u001b[0m adj_mtx \u001b[38;5;241m=\u001b[39m rna\u001b[38;5;241m.\u001b[39mobsp[\u001b[38;5;124m'\u001b[39m\u001b[38;5;124mconnectivities\u001b[39m\u001b[38;5;124m'\u001b[39m]\u001b[38;5;241m.\u001b[39mtoarray()\n\u001b[1;32m      4\u001b[0m edge_index \u001b[38;5;241m=\u001b[39m adj_mtx\u001b[38;5;241m.\u001b[39mnonzero()\n",
      "\u001b[0;31mNameError\u001b[0m: name 'rna' is not defined"
     ]
    }
   ],
   "source": [
    "concat_data = np.concatenate([rna.X, protein.X], axis=1)\n",
    "\n",
    "adj_mtx = rna.obsp['connectivities'].toarray()\n",
    "edge_index = adj_mtx.nonzero()\n",
    "edge_index = torch.tensor(edge_index, \n",
    "        dtype=torch.long).contiguous()\n",
    "\n",
    "scCITEseq_data = Data(x=torch.tensor(\n",
    "    concat_data, dtype=torch.float), \n",
    "    edge_index=edge_index)"
   ]
  },
  {
   "cell_type": "markdown",
   "metadata": {},
   "source": [
    "# Spatial Data"
   ]
  },
  {
   "cell_type": "code",
   "execution_count": 4,
   "metadata": {},
   "outputs": [],
   "source": [
    "data_path = \"/home/wuxinchao/data/st_cite_data/\"\n",
    "prot_data_path = \"B01825A4_protein_filter.csv\"\n",
    "rna_data_path = \"B01825A4_rna_raw.csv\""
   ]
  },
  {
   "cell_type": "code",
   "execution_count": 5,
   "metadata": {},
   "outputs": [
    {
     "name": "stderr",
     "output_type": "stream",
     "text": [
      "/DATA/User/wuxinchao/project/spatial-CITE-seq/sc_st_attention_integration/GSPI/utils.py:81: FutureWarning: X.dtype being converted to np.float32 from float64. In the next version of anndata (0.9) conversion will not be automatic. Pass dtype explicitly to avoid this warning. Pass `AnnData(X, dtype=X.dtype, ...)` to get the future behavour.\n",
      "  rna_adata = ad.AnnData(\n",
      "/DATA/User/wuxinchao/project/spatial-CITE-seq/sc_st_attention_integration/GSPI/utils.py:86: FutureWarning: X.dtype being converted to np.float32 from float64. In the next version of anndata (0.9) conversion will not be automatic. Pass dtype explicitly to avoid this warning. Pass `AnnData(X, dtype=X.dtype, ...)` to get the future behavour.\n",
      "  prot_adata = ad.AnnData(\n"
     ]
    },
    {
     "data": {
      "text/html": [
       "<pre>MuData object with n_obs × n_vars = 8628 × 25828\n",
       "  obsm:\t&#x27;spatial&#x27;\n",
       "  2 modalities\n",
       "    rna:\t8628 x 25818\n",
       "      obsm:\t&#x27;spatial&#x27;\n",
       "    prot:\t8628 x 10\n",
       "      obsm:\t&#x27;spatial&#x27;</pre>"
      ],
      "text/plain": [
       "MuData object with n_obs × n_vars = 8628 × 25828\n",
       "  obsm:\t'spatial'\n",
       "  2 modalities\n",
       "    rna:\t8628 x 25818\n",
       "      obsm:\t'spatial'\n",
       "    prot:\t8628 x 10\n",
       "      obsm:\t'spatial'"
      ]
     },
     "execution_count": 5,
     "metadata": {},
     "output_type": "execute_result"
    }
   ],
   "source": [
    "from utils import construct_spatial_adata\n",
    "\n",
    "sp_mudata = construct_spatial_adata(\n",
    "    data_path, \n",
    "    rna_data=rna_data_path, \n",
    "    prot_data=prot_data_path\n",
    ")\n",
    "sp_mudata"
   ]
  },
  {
   "cell_type": "code",
   "execution_count": 9,
   "metadata": {},
   "outputs": [],
   "source": [
    "rna_adata = sp_mudata.mod[\"rna\"]\n",
    "prot_adata = sp_mudata.mod[\"prot\"]"
   ]
  },
  {
   "cell_type": "code",
   "execution_count": 10,
   "metadata": {},
   "outputs": [
    {
     "name": "stderr",
     "output_type": "stream",
     "text": [
      "/home/wuxinchao/software/miniconda3/envs/pytorch-gpu/lib/python3.9/site-packages/scanpy/preprocessing/_normalization.py:197: UserWarning: Some cells have zero counts\n",
      "  warn(UserWarning('Some cells have zero counts'))\n",
      "/home/wuxinchao/software/miniconda3/envs/pytorch-gpu/lib/python3.9/site-packages/scanpy/preprocessing/_highly_variable_genes.py:62: UserWarning: `flavor='seurat_v3'` expects raw count data, but non-integers were found.\n",
      "  warnings.warn(\n"
     ]
    }
   ],
   "source": [
    "sc.pp.normalize_total(rna_adata)\n",
    "sc.pp.log1p(rna_adata)\n",
    "rna_adata.obs_names_make_unique()\n",
    "rna_adata.var['mt'] = rna_adata.var_names.str.startswith('MT-')\n",
    "rna_adata.layers[\"counts\"] = rna_adata.X.copy()\n",
    "sc.pp.highly_variable_genes(\n",
    "    rna_adata,\n",
    "    n_top_genes=2000,\n",
    "    flavor=\"seurat_v3\",\n",
    "    layer=\"counts\",\n",
    ")\n",
    "\n",
    "sc.pp.scale(rna_adata, max_value=10)\n",
    "sc.tl.pca(rna_adata, svd_solver=\"arpack\")\n",
    "# sc.pl.pca_variance_ratio(rna_adata, log=True)\n",
    "sc.pp.neighbors(rna_adata, n_pcs=50)\n",
    "sc.tl.umap(rna_adata)"
   ]
  },
  {
   "cell_type": "code",
   "execution_count": 11,
   "metadata": {},
   "outputs": [],
   "source": [
    "from muon import prot as pt\n",
    "\n",
    "pt.pp.clr(prot_adata)\n",
    "sp_mudata.update()"
   ]
  },
  {
   "cell_type": "code",
   "execution_count": 12,
   "metadata": {},
   "outputs": [],
   "source": [
    "sp_mudata.write_h5mu(data_path + \"sp_mudata.h5mu\")"
   ]
  },
  {
   "cell_type": "code",
   "execution_count": 13,
   "metadata": {},
   "outputs": [
    {
     "data": {
      "text/html": [
       "<pre>MuData object with n_obs × n_vars = 8628 × 25828\n",
       "  obsm:\t&#x27;spatial&#x27;\n",
       "  2 modalities\n",
       "    rna:\t8628 x 25818\n",
       "      var:\t&#x27;mt&#x27;, &#x27;highly_variable&#x27;, &#x27;highly_variable_rank&#x27;, &#x27;means&#x27;, &#x27;variances&#x27;, &#x27;variances_norm&#x27;, &#x27;mean&#x27;, &#x27;std&#x27;\n",
       "      uns:\t&#x27;log1p&#x27;, &#x27;hvg&#x27;, &#x27;pca&#x27;, &#x27;neighbors&#x27;, &#x27;umap&#x27;\n",
       "      obsm:\t&#x27;spatial&#x27;, &#x27;X_pca&#x27;, &#x27;X_umap&#x27;\n",
       "      varm:\t&#x27;PCs&#x27;\n",
       "      layers:\t&#x27;counts&#x27;\n",
       "      obsp:\t&#x27;distances&#x27;, &#x27;connectivities&#x27;\n",
       "    prot:\t8628 x 10\n",
       "      obsm:\t&#x27;spatial&#x27;</pre>"
      ],
      "text/plain": [
       "MuData object with n_obs × n_vars = 8628 × 25828\n",
       "  obsm:\t'spatial'\n",
       "  2 modalities\n",
       "    rna:\t8628 x 25818\n",
       "      var:\t'mt', 'highly_variable', 'highly_variable_rank', 'means', 'variances', 'variances_norm', 'mean', 'std'\n",
       "      uns:\t'log1p', 'hvg', 'pca', 'neighbors', 'umap'\n",
       "      obsm:\t'spatial', 'X_pca', 'X_umap'\n",
       "      varm:\t'PCs'\n",
       "      layers:\t'counts'\n",
       "      obsp:\t'distances', 'connectivities'\n",
       "    prot:\t8628 x 10\n",
       "      obsm:\t'spatial'"
      ]
     },
     "execution_count": 13,
     "metadata": {},
     "output_type": "execute_result"
    }
   ],
   "source": [
    "sp_mudata"
   ]
  },
  {
   "cell_type": "code",
   "execution_count": null,
   "metadata": {},
   "outputs": [],
   "source": []
  },
  {
   "cell_type": "markdown",
   "metadata": {},
   "source": []
  },
  {
   "cell_type": "code",
   "execution_count": null,
   "metadata": {},
   "outputs": [],
   "source": [
    "num_splits = 2\n",
    "num_val = 0.2\n",
    "num_test = 0.2\n",
    "\n",
    "tsf = RandomNodeSplit(num_splits=num_splits, num_val=num_val, num_test=num_test, key=None)\n",
    "training_data = tsf(scCITEseq_data)"
   ]
  },
  {
   "cell_type": "code",
   "execution_count": null,
   "metadata": {},
   "outputs": [],
   "source": [
    "from train import Trainer\n",
    "\n",
    "device = torch.device('cuda' if torch.cuda.is_available() else 'cpu')\n",
    "\n",
    "trainer = Trainer(\n",
    "    training_data, \n",
    "    model_choice=\"Graph Cross Attention\", \n",
    "    rna_input_dim=rna.shape[1], \n",
    "    prot_input_dim=protein.shape[1],\n",
    "    hidden_dim=32,\n",
    "    embedding_dim=32,\n",
    "    heads=4,\n",
    "    num_blocks=2, \n",
    "    batch_size=256,\n",
    "    epochs=25,\n",
    "    mask_ratio=0.75,\n",
    "    permute=True,\n",
    "    preserve_rate=0.2,\n",
    "    num_splits=num_splits,\n",
    "    device=device,\n",
    "    alpha=0.4,\n",
    "    beta=0.4,\n",
    "    )\n",
    "\n",
    "train_losses, val_losses = trainer.train()"
   ]
  }
 ],
 "metadata": {
  "kernelspec": {
   "display_name": "pytorch-gpu",
   "language": "python",
   "name": "python3"
  },
  "language_info": {
   "codemirror_mode": {
    "name": "ipython",
    "version": 3
   },
   "file_extension": ".py",
   "mimetype": "text/x-python",
   "name": "python",
   "nbconvert_exporter": "python",
   "pygments_lexer": "ipython3",
   "version": "3.9.13"
  }
 },
 "nbformat": 4,
 "nbformat_minor": 2
}
