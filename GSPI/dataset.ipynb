{
 "cells": [
  {
   "cell_type": "code",
   "execution_count": 1,
   "metadata": {},
   "outputs": [],
   "source": [
    "from typing import List, Tuple, Union\n",
    "import os\n",
    "\n",
    "import scanpy as sc\n",
    "import anndata as ad\n",
    "\n",
    "import torch\n",
    "from torch_geometric.data import Dataset"
   ]
  },
  {
   "cell_type": "code",
   "execution_count": null,
   "metadata": {},
   "outputs": [],
   "source": [
    "\n",
    "class SingleCellDataset(Dataset):\n",
    "    \"\"\" Single cell dataset. \n",
    "        root: root directory of dataset\n",
    "        transform: transform applied to each data object\n",
    "        pre_transform: transform applied to the whole dataset\n",
    "        pre_filter: filter applied to the whole dataset\n",
    "    \"\"\"\n",
    "    def __init__(self, root, transform=None, pre_transform=None, pre_filter=None):\n",
    "        super().__init__(root, transform, pre_transform, pre_filter)\n",
    "        self.filenames = []\n",
    "        self.processed_file_names = []\n",
    "        # get all filenames\n",
    "        for filename in os.listdir(root):\n",
    "            if filename.endswith('.h5ad'):\n",
    "                self.filenames.append(filename)\n",
    "        # process all files\n",
    "        self.process()        \n",
    "    \n",
    "    @property\n",
    "    def raw_file_names(self):\n",
    "        return self.filenames\n",
    "    \n",
    "    @property\n",
    "    def processed_file_names(self):\n",
    "        return self.processed_file_names\n",
    "\n",
    "    def process(self):\n",
    "        idx = 0\n",
    "        for raw_path in self.raw_paths:\n",
    "            # Read adata object from 'raw_path'\n",
    "            adata = sc.read_h5ad(raw_path)\n",
    "\n",
    "            if self.pre_filter is not None and not self.pre_filter(adata):\n",
    "                continue\n",
    "\n",
    "            if self.pre_transform is not None:\n",
    "                adata = self.pre_transform(adata)\n",
    "\n",
    "    # pre_transform: transform applied to the whole dataset\n",
    "    def pre_transform(self, adata):\n",
    "        # filter out genes with zero expression\n",
    "        sc.pp.filter_genes(adata, min_counts=1)\n",
    "        # log transform\n",
    "        sc.pp.log1p(adata)\n",
    "        # scale\n",
    "        sc.pp.scale(adata)\n",
    "        return adata"
   ]
  },
  {
   "cell_type": "code",
   "execution_count": null,
   "metadata": {},
   "outputs": [],
   "source": []
  }
 ],
 "metadata": {
  "kernelspec": {
   "display_name": "pytorch-gpu",
   "language": "python",
   "name": "python3"
  },
  "language_info": {
   "codemirror_mode": {
    "name": "ipython",
    "version": 3
   },
   "file_extension": ".py",
   "mimetype": "text/x-python",
   "name": "python",
   "nbconvert_exporter": "python",
   "pygments_lexer": "ipython3",
   "version": "3.9.13"
  }
 },
 "nbformat": 4,
 "nbformat_minor": 2
}
