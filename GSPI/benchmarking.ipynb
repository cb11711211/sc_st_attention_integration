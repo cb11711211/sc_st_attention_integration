{
 "cells": [
  {
   "cell_type": "code",
   "execution_count": 1,
   "metadata": {},
   "outputs": [
    {
     "name": "stderr",
     "output_type": "stream",
     "text": [
      "/home/wuxinchao/software/miniconda3/envs/pytorch-gpu/lib/python3.9/site-packages/tqdm/auto.py:22: TqdmWarning: IProgress not found. Please update jupyter and ipywidgets. See https://ipywidgets.readthedocs.io/en/stable/user_install.html\n",
      "  from .autonotebook import tqdm as notebook_tqdm\n"
     ]
    }
   ],
   "source": [
    "import scanpy as sc\n",
    "import muon as mu\n",
    "import numpy as np\n",
    "import pandas as pd\n",
    "import matplotlib.pyplot as plt\n",
    "\n",
    "import torch\n",
    "import torch.nn as nn\n",
    "import torch.nn.functional as F\n",
    "\n",
    "from sklearn.metrics import roc_curve, auc"
   ]
  },
  {
   "cell_type": "code",
   "execution_count": null,
   "metadata": {},
   "outputs": [],
   "source": [
    "# using different methods to get the initial graph construction of the cells\n",
    "\n",
    "def permutate_graph_construct(adata, dim=50, init_neighbor_method='louvain', res=1, batch_size=256, device='cuda'):\n",
    "    \"\"\"To use contrastive learning, we need to permutate the graph construct of the data.\"\"\"\n",
    "    adata_perm = adata.copy()\n",
    "    # Permutate the cell expression matrix and get the new graph cnostruct of the data\n",
    "    adata_perm.X = np.random.permutation(adata_perm.X)\n",
    "    if init_neighbor_method == 'louvain':\n",
    "        # Get the louvain graph construct of the data\n",
    "        expression = adata_perm.X\n",
    "        sc.pp.neighbors(adata_perm, use_rep='X', n_neighbors=30)\n",
    "        sc.tl.louvain(adata_perm, resolution=res)\n",
    "\n",
    "\n",
    "def get_contrastive_loss(adata, adata_perm, dim=50, batch_size=256, device='cuda'):\n",
    "    \"\"\"Get the contrastive loss of the data.\"\"\"\n",
    "    # Get the contrastive loss\n",
    "    model = mu.models.MuonNet(adata_perm, n_hidden=dim, n_layers=2, dropout=0.1, batchnorm=True, residual=True)\n",
    "    model = model.to(device)\n",
    "    optimizer = torch.optim.Adam(model.parameters(), lr=1e-3)\n",
    "    criterion = nn.CrossEntropyLoss()\n",
    "    loader = mu.data.DataLoader(adata, batch_size=batch_size, shuffle=True, device=device)\n",
    "    loss = mu.train.train(model, loader, optimizer, criterion, epochs=100, verbose=False)\n",
    "    return loss"
   ]
  },
  {
   "cell_type": "code",
   "execution_count": null,
   "metadata": {},
   "outputs": [],
   "source": []
  }
 ],
 "metadata": {
  "kernelspec": {
   "display_name": "pytorch-gpu",
   "language": "python",
   "name": "python3"
  },
  "language_info": {
   "codemirror_mode": {
    "name": "ipython",
    "version": 3
   },
   "file_extension": ".py",
   "mimetype": "text/x-python",
   "name": "python",
   "nbconvert_exporter": "python",
   "pygments_lexer": "ipython3",
   "version": "3.9.13"
  }
 },
 "nbformat": 4,
 "nbformat_minor": 2
}
