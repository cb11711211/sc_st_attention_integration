{
 "cells": [
  {
   "cell_type": "code",
   "execution_count": 1,
   "metadata": {},
   "outputs": [
    {
     "name": "stderr",
     "output_type": "stream",
     "text": [
      "/home/wuxinchao/software/miniconda3/envs/pytorch-gpu/lib/python3.9/site-packages/tqdm/auto.py:22: TqdmWarning: IProgress not found. Please update jupyter and ipywidgets. See https://ipywidgets.readthedocs.io/en/stable/user_install.html\n",
      "  from .autonotebook import tqdm as notebook_tqdm\n"
     ]
    }
   ],
   "source": [
    "import scanpy as sc\n",
    "import muon as mu\n",
    "import numpy as np\n",
    "import pandas as pd\n",
    "import matplotlib.pyplot as plt\n",
    "\n",
    "import torch\n",
    "import torch.nn as nn\n",
    "import torch.nn.functional as F\n",
    "\n",
    "from sklearn.metrics import roc_curve, auc"
   ]
  },
  {
   "cell_type": "code",
   "execution_count": null,
   "metadata": {},
   "outputs": [],
   "source": [
    "# using different methods to get the initial graph construction of the cells\n",
    "\n",
    "def permutate_graph_construct(adata, dim=50, init_neighbor_method='louvain', res=1, batch_size=256, device='cuda'):\n",
    "    \"\"\"To use contrastive learning, we need to permutate the graph construct of the data.\"\"\"\n",
    "    adata_perm = adata.copy()\n",
    "    # Permutate the cell expression matrix and get the new graph cnostruct of the data\n",
    "    adata_perm.X = np.random.permutation(adata_perm.X)\n",
    "    if init_neighbor_method == 'louvain':\n",
    "        # Get the louvain graph construct of the data\n",
    "        expression = adata_perm.X\n",
    "        sc.pp.neighbors(adata_perm, use_rep='X', n_neighbors=30)\n",
    "        sc.tl.louvain(adata_perm, resolution=res)\n",
    "\n",
    "\n",
    "def get_contrastive_loss(adata, adata_perm, dim=50, batch_size=256, device='cuda'):\n",
    "    \"\"\"Get the contrastive loss of the data.\"\"\"\n",
    "    # Get the contrastive loss"
   ]
  },
  {
   "cell_type": "code",
   "execution_count": null,
   "metadata": {},
   "outputs": [],
   "source": [
    "from utils import define_positive_pairs\n",
    "\n",
    "def constrastive_loss(pred_embedding, pos_pairs, neg_pairs, device='cuda'):\n",
    "    \"\"\"\n",
    "    Define the loss function for contrastive learning.\n",
    "    The optimization goal is to make the distance between positive\n",
    "    pairs smaller and the distance between negative pairs larger.\n",
    "    \"\"\"\n",
    "    # Get the positive pairs and negative pairs\n",
    "    pos_pairs, neg_pairs = define_positive_pairs(pred_embedding, device=device)\n",
    "    # Get the distance of the positive pairs and negative pairs\n",
    "    pos_dist = torch.sum((pred_embedding[pos_pairs[:, 0]] - pred_embedding[pos_pairs[:, 1]]) ** 2, dim=1)\n",
    "    neg_dist = torch.sum((pred_embedding[neg_pairs[:, 0]] - pred_embedding[neg_pairs[:, 1]]) ** 2, dim=1)\n",
    "    # Get the loss\n",
    "    loss = torch.mean(pos_dist) - torch.mean(neg_dist)\n",
    "    return loss"
   ]
  }
 ],
 "metadata": {
  "kernelspec": {
   "display_name": "pytorch-gpu",
   "language": "python",
   "name": "python3"
  },
  "language_info": {
   "codemirror_mode": {
    "name": "ipython",
    "version": 3
   },
   "file_extension": ".py",
   "mimetype": "text/x-python",
   "name": "python",
   "nbconvert_exporter": "python",
   "pygments_lexer": "ipython3",
   "version": "3.9.13"
  }
 },
 "nbformat": 4,
 "nbformat_minor": 2
}
