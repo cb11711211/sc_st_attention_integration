{
 "cells": [
  {
   "cell_type": "code",
   "execution_count": 2,
   "id": "8a22414d-bce2-4d05-a6fc-e8be594ab718",
   "metadata": {},
   "outputs": [
    {
     "name": "stderr",
     "output_type": "stream",
     "text": [
      "/home/wuxinchao/software/miniconda3/envs/mofa2/lib/python3.10/site-packages/tqdm/auto.py:21: TqdmWarning: IProgress not found. Please update jupyter and ipywidgets. See https://ipywidgets.readthedocs.io/en/stable/user_install.html\n",
      "  from .autonotebook import tqdm as notebook_tqdm\n"
     ]
    }
   ],
   "source": [
    "import muon as mu\n",
    "import numpy as np\n",
    "import pandas as pd\n",
    "import torch\n",
    "import matplotlib.pyplot as plt"
   ]
  },
  {
   "cell_type": "code",
   "execution_count": 3,
   "id": "c5946674-c85d-4423-9065-ab0d533ebdcd",
   "metadata": {},
   "outputs": [],
   "source": [
    "sp_data_path = \"/home/wuxinchao/data/st_cite_data/\"\n",
    "sp_mudata = mu.read_h5mu(sp_data_path + \"sp_mudata.h5mu\")"
   ]
  },
  {
   "cell_type": "code",
   "execution_count": 5,
   "id": "440f8c8c-f866-439d-a600-e47d6541fb23",
   "metadata": {},
   "outputs": [
    {
     "data": {
      "text/html": [
       "<pre>MuData object with n_obs × n_vars = 8628 × 25828\n",
       "  uns:\t&#x27;mofa&#x27;\n",
       "  obsm:\t&#x27;spatial&#x27;, &#x27;X_mofa&#x27;\n",
       "  varm:\t&#x27;LFs&#x27;\n",
       "  2 modalities\n",
       "    rna:\t8628 x 25818\n",
       "      var:\t&#x27;mt&#x27;, &#x27;highly_variable&#x27;, &#x27;highly_variable_rank&#x27;, &#x27;means&#x27;, &#x27;variances&#x27;, &#x27;variances_norm&#x27;, &#x27;mean&#x27;, &#x27;std&#x27;\n",
       "      uns:\t&#x27;hvg&#x27;, &#x27;log1p&#x27;, &#x27;neighbors&#x27;, &#x27;pca&#x27;, &#x27;umap&#x27;\n",
       "      obsm:\t&#x27;X_pca&#x27;, &#x27;X_umap&#x27;, &#x27;spatial&#x27;\n",
       "      varm:\t&#x27;PCs&#x27;\n",
       "      layers:\t&#x27;counts&#x27;\n",
       "      obsp:\t&#x27;connectivities&#x27;, &#x27;distances&#x27;\n",
       "    prot:\t8628 x 10\n",
       "      obsm:\t&#x27;spatial&#x27;</pre>"
      ],
      "text/plain": [
       "MuData object with n_obs × n_vars = 8628 × 25828\n",
       "  uns:\t'mofa'\n",
       "  obsm:\t'spatial', 'X_mofa'\n",
       "  varm:\t'LFs'\n",
       "  2 modalities\n",
       "    rna:\t8628 x 25818\n",
       "      var:\t'mt', 'highly_variable', 'highly_variable_rank', 'means', 'variances', 'variances_norm', 'mean', 'std'\n",
       "      uns:\t'hvg', 'log1p', 'neighbors', 'pca', 'umap'\n",
       "      obsm:\t'X_pca', 'X_umap', 'spatial'\n",
       "      varm:\t'PCs'\n",
       "      layers:\t'counts'\n",
       "      obsp:\t'connectivities', 'distances'\n",
       "    prot:\t8628 x 10\n",
       "      obsm:\t'spatial'"
      ]
     },
     "execution_count": 5,
     "metadata": {},
     "output_type": "execute_result"
    }
   ],
   "source": [
    "sp_mudata"
   ]
  },
  {
   "cell_type": "code",
   "execution_count": null,
   "id": "ab5d9d88-e60f-4a16-99ae-078a9e84deb5",
   "metadata": {},
   "outputs": [],
   "source": []
  },
  {
   "cell_type": "code",
   "execution_count": 4,
   "id": "d1be90b8-191f-41ee-8b40-dfbeee74b64b",
   "metadata": {},
   "outputs": [
    {
     "name": "stdout",
     "output_type": "stream",
     "text": [
      "\n",
      "        #########################################################\n",
      "        ###           __  __  ____  ______                    ### \n",
      "        ###          |  \\/  |/ __ \\|  ____/\\    _             ### \n",
      "        ###          | \\  / | |  | | |__ /  \\ _| |_           ### \n",
      "        ###          | |\\/| | |  | |  __/ /\\ \\_   _|          ###\n",
      "        ###          | |  | | |__| | | / ____ \\|_|            ###\n",
      "        ###          |_|  |_|\\____/|_|/_/    \\_\\              ###\n",
      "        ###                                                   ### \n",
      "        ######################################################### \n",
      "       \n",
      " \n",
      "        \n",
      "Loaded view='rna' group='group1' with N=8628 samples and D=25818 features...\n",
      "Loaded view='prot' group='group1' with N=8628 samples and D=10 features...\n",
      "\n",
      "\n",
      "Warning: 40 features(s) in view 0 have zero variance, consider removing them before training the model...\n",
      "\n",
      "Model options:\n",
      "- Automatic Relevance Determination prior on the factors: True\n",
      "- Automatic Relevance Determination prior on the weights: True\n",
      "- Spike-and-slab prior on the factors: False\n",
      "- Spike-and-slab prior on the weights: True\n",
      "Likelihoods:\n",
      "- View 0 (rna): gaussian\n",
      "- View 1 (prot): gaussian\n",
      "\n",
      "\n",
      "\n",
      "Warning: some view(s) have less than 15 features, MOFA won't be able to learn meaningful factors for these view(s)...\n",
      "\n",
      "\n",
      "\n",
      "######################################\n",
      "## Training the model with seed 1 ##\n",
      "######################################\n",
      "\n",
      "\n",
      "\n",
      "Converged!\n",
      "\n",
      "\n",
      "\n",
      "#######################\n",
      "## Training finished ##\n",
      "#######################\n",
      "\n",
      "\n",
      "Output directory does not exist, creating it...\n",
      "Saving model in models/CLL_union.hdf5...\n",
      "Saved MOFA embeddings in .obsm['X_mofa'] slot and their loadings in .varm['LFs'].\n"
     ]
    }
   ],
   "source": [
    "mu.tl.mofa(sp_mudata, use_obs='union',\n",
    "           n_factors=15, convergence_mode='medium',\n",
    "           outfile=\"models/CLL_union.hdf5\")"
   ]
  },
  {
   "cell_type": "code",
   "execution_count": 6,
   "id": "8eb3985f-2a9e-4ebd-9c47-c36a3ab6a459",
   "metadata": {},
   "outputs": [
    {
     "data": {
      "text/html": [
       "<pre>MuData object with n_obs × n_vars = 8628 × 25828\n",
       "  uns:\t&#x27;mofa&#x27;\n",
       "  obsm:\t&#x27;spatial&#x27;, &#x27;X_mofa&#x27;\n",
       "  varm:\t&#x27;LFs&#x27;\n",
       "  2 modalities\n",
       "    rna:\t8628 x 25818\n",
       "      var:\t&#x27;mt&#x27;, &#x27;highly_variable&#x27;, &#x27;highly_variable_rank&#x27;, &#x27;means&#x27;, &#x27;variances&#x27;, &#x27;variances_norm&#x27;, &#x27;mean&#x27;, &#x27;std&#x27;\n",
       "      uns:\t&#x27;hvg&#x27;, &#x27;log1p&#x27;, &#x27;neighbors&#x27;, &#x27;pca&#x27;, &#x27;umap&#x27;\n",
       "      obsm:\t&#x27;X_pca&#x27;, &#x27;X_umap&#x27;, &#x27;spatial&#x27;\n",
       "      varm:\t&#x27;PCs&#x27;\n",
       "      layers:\t&#x27;counts&#x27;\n",
       "      obsp:\t&#x27;connectivities&#x27;, &#x27;distances&#x27;\n",
       "    prot:\t8628 x 10\n",
       "      obsm:\t&#x27;spatial&#x27;</pre>"
      ],
      "text/plain": [
       "MuData object with n_obs × n_vars = 8628 × 25828\n",
       "  uns:\t'mofa'\n",
       "  obsm:\t'spatial', 'X_mofa'\n",
       "  varm:\t'LFs'\n",
       "  2 modalities\n",
       "    rna:\t8628 x 25818\n",
       "      var:\t'mt', 'highly_variable', 'highly_variable_rank', 'means', 'variances', 'variances_norm', 'mean', 'std'\n",
       "      uns:\t'hvg', 'log1p', 'neighbors', 'pca', 'umap'\n",
       "      obsm:\t'X_pca', 'X_umap', 'spatial'\n",
       "      varm:\t'PCs'\n",
       "      layers:\t'counts'\n",
       "      obsp:\t'connectivities', 'distances'\n",
       "    prot:\t8628 x 10\n",
       "      obsm:\t'spatial'"
      ]
     },
     "execution_count": 6,
     "metadata": {},
     "output_type": "execute_result"
    }
   ],
   "source": []
  },
  {
   "cell_type": "code",
   "execution_count": null,
   "id": "4afe490d-8b9f-4fff-b614-75c33aa8da34",
   "metadata": {},
   "outputs": [],
   "source": []
  },
  {
   "cell_type": "code",
   "execution_count": null,
   "id": "41f2776e-c924-4bf9-bb66-4a21a2c6c532",
   "metadata": {},
   "outputs": [],
   "source": []
  },
  {
   "cell_type": "code",
   "execution_count": null,
   "id": "0bcbae56-6835-4d57-9d40-b64caaf812ee",
   "metadata": {},
   "outputs": [],
   "source": []
  }
 ],
 "metadata": {
  "kernelspec": {
   "display_name": "mofa2",
   "language": "python",
   "name": "mofa2"
  },
  "language_info": {
   "codemirror_mode": {
    "name": "ipython",
    "version": 3
   },
   "file_extension": ".py",
   "mimetype": "text/x-python",
   "name": "python",
   "nbconvert_exporter": "python",
   "pygments_lexer": "ipython3",
   "version": "3.10.13"
  }
 },
 "nbformat": 4,
 "nbformat_minor": 5
}
