{
 "cells": [
  {
   "cell_type": "code",
   "execution_count": 1,
   "metadata": {},
   "outputs": [
    {
     "name": "stderr",
     "output_type": "stream",
     "text": [
      "/home/wuxinchao/software/miniconda3/envs/pytorch-gpu/lib/python3.9/site-packages/tqdm/auto.py:22: TqdmWarning: IProgress not found. Please update jupyter and ipywidgets. See https://ipywidgets.readthedocs.io/en/stable/user_install.html\n",
      "  from .autonotebook import tqdm as notebook_tqdm\n"
     ]
    }
   ],
   "source": [
    "import torch\n",
    "import numpy as np\n",
    "\n",
    "from torch_geometric.nn import GATConv"
   ]
  },
  {
   "cell_type": "code",
   "execution_count": 2,
   "metadata": {},
   "outputs": [],
   "source": [
    "# Node features\n",
    "num_nodes = 10\n",
    "num_node_features = 5\n",
    "x = torch.from_numpy(np.random.rand(num_nodes, num_node_features).astype(np.float32))\n",
    "\n",
    "# Edge index\n",
    "num_edges = 20\n",
    "edge_index = torch.randint(0, num_nodes, (2, num_edges), dtype=torch.long)"
   ]
  },
  {
   "cell_type": "code",
   "execution_count": 4,
   "metadata": {},
   "outputs": [
    {
     "data": {
      "text/plain": [
       "tensor([[-0.0634, -0.4959, -0.0615,  0.1039, -0.5780,  0.2957, -0.2445, -0.3484],\n",
       "        [-0.1571, -0.4197, -0.0764, -0.1136, -0.2961,  0.3356, -0.3984, -0.2184],\n",
       "        [-0.0241, -0.3007, -0.2063,  0.1972, -0.6057,  0.2394, -0.0591, -0.3631],\n",
       "        [ 0.0854, -0.6489,  0.0236,  0.4758, -0.7820,  0.1971, -0.1411, -0.5144],\n",
       "        [-0.0823, -0.5780,  0.0508, -0.2357, -0.0234,  0.2289, -0.4243,  0.2322],\n",
       "        [-0.2902, -0.4341, -0.0320, -0.3044,  0.1074,  0.1974, -0.5429,  0.1893],\n",
       "        [-0.1672, -0.2891, -0.1805, -0.1515, -0.2229,  0.2790, -0.2696, -0.0844],\n",
       "        [ 0.0541, -0.3236, -0.1029, -0.2215, -0.1868,  0.3267, -0.1629,  0.0779],\n",
       "        [ 0.0705, -0.5568, -0.0584,  0.1232, -0.6335,  0.3309, -0.1530, -0.2904],\n",
       "        [-0.3174, -0.3844, -0.0611, -0.2754, -0.0155,  0.2762, -0.5620, -0.0594]],\n",
       "       grad_fn=<AddBackward0>)"
      ]
     },
     "execution_count": 4,
     "metadata": {},
     "output_type": "execute_result"
    }
   ],
   "source": [
    "gat_net = GATConv((-1, -1), 2, heads=4)\n",
    "gat_net(x, edge_index)"
   ]
  },
  {
   "cell_type": "code",
   "execution_count": 6,
   "metadata": {},
   "outputs": [
    {
     "data": {
      "text/plain": [
       "2"
      ]
     },
     "execution_count": 6,
     "metadata": {},
     "output_type": "execute_result"
    }
   ],
   "source": [
    "len(gat_net(x, edge_index, return_attention_weights=True))"
   ]
  },
  {
   "cell_type": "code",
   "execution_count": 8,
   "metadata": {},
   "outputs": [
    {
     "data": {
      "text/plain": [
       "2"
      ]
     },
     "execution_count": 8,
     "metadata": {},
     "output_type": "execute_result"
    }
   ],
   "source": [
    "len(gat_net(x, edge_index, return_attention_weights=True)[1])"
   ]
  },
  {
   "cell_type": "code",
   "execution_count": 9,
   "metadata": {},
   "outputs": [
    {
     "data": {
      "text/plain": [
       "(torch.Size([2, 27]), torch.Size([27, 4]))"
      ]
     },
     "execution_count": 9,
     "metadata": {},
     "output_type": "execute_result"
    }
   ],
   "source": [
    "gat_net(x, edge_index, return_attention_weights=True)[1][0].shape, gat_net(x, edge_index, return_attention_weights=True)[1][1].shape"
   ]
  },
  {
   "cell_type": "markdown",
   "metadata": {},
   "source": [
    "# Metrics"
   ]
  },
  {
   "cell_type": "code",
   "execution_count": 10,
   "metadata": {},
   "outputs": [
    {
     "data": {
      "text/plain": [
       "torch.Size([10, 5])"
      ]
     },
     "execution_count": 10,
     "metadata": {},
     "output_type": "execute_result"
    }
   ],
   "source": [
    "from sklearn.metrics import homogeneity_score, completeness_score, v_measure_score, silhouette_score, adjusted_rand_score, normalized_mutual_info_score, adjusted_mutual_info_score, calinski_harabasz_score, davies_bouldin_score"
   ]
  },
  {
   "cell_type": "code",
   "execution_count": null,
   "metadata": {},
   "outputs": [],
   "source": [
    "# unsupervised metrics\n",
    "silouette_avg = silhouette_score(X, labels_pred)\n",
    "calinski_harabasz = calinski_harabasz_score(X, labels_pred)\n",
    "davies_bouldin = davies_bouldin_score(X, labels_pred)\n",
    "\n",
    "print(f'Silhouette Score: {silhouette_avg}')\n",
    "print(f'Calinski-Harabasz Index: {calinski_harabasz}')\n",
    "print(f'Davies-Bouldin Index: {davies_bouldin}')"
   ]
  },
  {
   "cell_type": "code",
   "execution_count": null,
   "metadata": {},
   "outputs": [],
   "source": [
    "# Supervised metrics\n",
    "v_measure = v_measure_score(labels_true, labels_pred)\n",
    "ari = adjusted_rand_score(labels_true, labels_pred)\n",
    "ami = adjusted_mutual_info_score(labels_true, labels_pred)\n",
    "\n",
    "print(f'V-measure: {v_measure}')\n",
    "print(f'Adjusted Rand Index (ARI): {ari}')\n",
    "print(f'Adjusted Mutual Information (AMI): {ami}')"
   ]
  },
  {
   "cell_type": "markdown",
   "metadata": {},
   "source": [
    "# SpatialGLUE"
   ]
  },
  {
   "cell_type": "code",
   "execution_count": 1,
   "metadata": {},
   "outputs": [
    {
     "ename": "ModuleNotFoundError",
     "evalue": "No module named 'torch'",
     "output_type": "error",
     "traceback": [
      "\u001b[0;31m---------------------------------------------------------------------------\u001b[0m",
      "\u001b[0;31mModuleNotFoundError\u001b[0m                       Traceback (most recent call last)",
      "Cell \u001b[0;32mIn[1], line 4\u001b[0m\n\u001b[1;32m      1\u001b[0m \u001b[38;5;28;01mimport\u001b[39;00m \u001b[38;5;21;01mSpatialGlue\u001b[39;00m\n\u001b[1;32m      3\u001b[0m \u001b[38;5;28;01mimport\u001b[39;00m \u001b[38;5;21;01mos\u001b[39;00m\n\u001b[0;32m----> 4\u001b[0m \u001b[38;5;28;01mimport\u001b[39;00m \u001b[38;5;21;01mtorch\u001b[39;00m\n\u001b[1;32m      5\u001b[0m \u001b[38;5;28;01mimport\u001b[39;00m \u001b[38;5;21;01mpandas\u001b[39;00m \u001b[38;5;28;01mas\u001b[39;00m \u001b[38;5;21;01mpd\u001b[39;00m\n\u001b[1;32m      6\u001b[0m \u001b[38;5;28;01mimport\u001b[39;00m \u001b[38;5;21;01mscanpy\u001b[39;00m \u001b[38;5;28;01mas\u001b[39;00m \u001b[38;5;21;01msc\u001b[39;00m\n",
      "\u001b[0;31mModuleNotFoundError\u001b[0m: No module named 'torch'"
     ]
    }
   ],
   "source": [
    "import SpatialGlue\n",
    "\n",
    "import os\n",
    "import torch\n",
    "import pandas as pd\n",
    "import scanpy as sc\n",
    "\n",
    "# Environment configuration. SpatialGlue pacakge can be implemented with either CPU or GPU. GPU acceleration is highly recommend for imporoved efficiency.\n",
    "device = torch.device('cuda:0' if torch.cuda.is_available() else 'cpu')\n",
    "\n",
    "# the location of R, which is required for the 'mclust' clustering algorithm. Please replace the path below with local R installation path\n",
    "# os.environ['R_HOME'] = '/scbio4/tools/R/R-4.0.3_openblas/R-4.0.3'"
   ]
  },
  {
   "cell_type": "code",
   "execution_count": null,
   "metadata": {},
   "outputs": [],
   "source": [
    "# read data\n",
    "file_fold = '/home/yahui/anaconda3/work/SpatialGlue_revision/data/Dataset3_Mouse_Thymus1/' #please replace 'file_fold' with the download path\n",
    "\n",
    "adata_omics1 = sc.read_h5ad(file_fold + 'adata_RNA.h5ad')\n",
    "adata_omics2 = sc.read_h5ad(file_fold + 'adata_protein.h5ad')\n",
    "\n",
    "adata_omics1.var_names_make_unique()\n",
    "adata_omics2.var_names_make_unique()"
   ]
  },
  {
   "cell_type": "code",
   "execution_count": null,
   "metadata": {},
   "outputs": [],
   "source": [
    "# Specify data type\n",
    "data_type = 'Stereo-CITE-seq'\n",
    "\n",
    "# Fix random seed\n",
    "from SpatialGlue.preprocess import fix_seed\n",
    "random_seed = 2022\n",
    "fix_seed(random_seed)"
   ]
  },
  {
   "cell_type": "markdown",
   "metadata": {},
   "source": [
    "## Preprocessing"
   ]
  },
  {
   "cell_type": "code",
   "execution_count": null,
   "metadata": {},
   "outputs": [],
   "source": [
    "from SpatialGlue.preprocess import clr_normalize_each_cell, pca\n",
    "\n",
    "# RNA\n",
    "sc.pp.filter_genes(adata_omics1, min_cells=10)\n",
    "sc.pp.filter_cells(adata_omics1, min_genes=80)\n",
    "\n",
    "sc.pp.filter_genes(adata_omics2, min_cells=50)\n",
    "adata_omics2 = adata_omics2[adata_omics1.obs_names].copy()\n",
    "\n",
    "sc.pp.highly_variable_genes(adata_omics1, flavor=\"seurat_v3\", n_top_genes=3000)\n",
    "sc.pp.normalize_total(adata_omics1, target_sum=1e4)\n",
    "sc.pp.log1p(adata_omics1)\n",
    "\n",
    "adata_omics1_high =  adata_omics1[:, adata_omics1.var['highly_variable']]\n",
    "adata_omics1.obsm['feat'] = pca(adata_omics1_high, n_comps=adata_omics2.n_vars-1)\n",
    "\n",
    "# Protein\n",
    "adata_omics2 = clr_normalize_each_cell(adata_omics2)\n",
    "adata_omics2.obsm['feat'] = pca(adata_omics2, n_comps=adata_omics2.n_vars-1)"
   ]
  },
  {
   "cell_type": "code",
   "execution_count": null,
   "metadata": {},
   "outputs": [],
   "source": [
    "## Constructing neighbor graph\n",
    "from SpatialGlue.preprocess import construct_neighbor_graph\n",
    "data = construct_neighbor_graph(adata_omics1, adata_omics2, datatype=data_type)"
   ]
  },
  {
   "cell_type": "markdown",
   "metadata": {},
   "source": [
    "## Training model"
   ]
  },
  {
   "cell_type": "code",
   "execution_count": null,
   "metadata": {},
   "outputs": [],
   "source": [
    "# define model\n",
    "from SpatialGlue.SpatialGlue_pyG import Train_SpatialGlue\n",
    "model = Train_SpatialGlue(data, datatype=data_type, device=device)\n",
    "\n",
    "# train model\n",
    "output = model.train()"
   ]
  },
  {
   "cell_type": "code",
   "execution_count": null,
   "metadata": {},
   "outputs": [],
   "source": [
    "adata = adata_omics1.copy()\n",
    "adata.obsm['emb_latent_omics1'] = output['emb_latent_omics1']\n",
    "adata.obsm['emb_latent_omics2'] = output['emb_latent_omics2']\n",
    "adata.obsm['SpatialGlue'] = output['SpatialGlue']\n",
    "adata.obsm['alpha'] = output['alpha']\n",
    "adata.obsm['alpha_omics1'] = output['alpha_omics1']\n",
    "adata.obsm['alpha_omics2'] = output['alpha_omics2']"
   ]
  },
  {
   "cell_type": "markdown",
   "metadata": {},
   "source": [
    "## Cross-modality integrative analysis"
   ]
  },
  {
   "cell_type": "code",
   "execution_count": null,
   "metadata": {},
   "outputs": [],
   "source": [
    "# we set 'mclust' as clustering tool by default. Users can also select 'leiden' and 'louvain'\n",
    "from SpatialGlue.utils import clustering\n",
    "tool = 'mclust' # mclust, leiden, and louvain\n",
    "clustering(adata, key='SpatialGlue', add_key='SpatialGlue', n_clusters=8, method=tool, use_pca=True)"
   ]
  },
  {
   "cell_type": "code",
   "execution_count": null,
   "metadata": {},
   "outputs": [],
   "source": [
    "# visualization\n",
    "import matplotlib.pyplot as plt\n",
    "adata.obsm['spatial'][:,1] = -1*adata.obsm['spatial'][:,1]\n",
    "\n",
    "fig, ax_list = plt.subplots(1, 2, figsize=(7, 3))\n",
    "sc.pp.neighbors(adata, use_rep='SpatialGlue', n_neighbors=30)\n",
    "sc.tl.umap(adata)\n",
    "\n",
    "sc.pl.umap(adata, color='SpatialGlue', ax=ax_list[0], title='SpatialGlue', s=20, show=False)\n",
    "sc.pl.embedding(adata, basis='spatial', color='SpatialGlue', ax=ax_list[1], title='SpatialGlue', s=20, show=False)\n",
    "\n",
    "plt.tight_layout(w_pad=0.3)\n",
    "plt.show()"
   ]
  },
  {
   "cell_type": "code",
   "execution_count": null,
   "metadata": {},
   "outputs": [],
   "source": [
    "# annotation\n",
    "adata.obs['SpatialGlue_number'] = adata.obs['SpatialGlue'].copy()\n",
    "adata.obs['SpatialGlue'].cat.rename_categories({1: '5-Outer cortex region 3(DN T,DP T,cTEC)',\n",
    "                                                2: '7-Subcapsular zone(DN T)',\n",
    "                                                3: '4-Middle cortex region 2(DN T,DP T,cTEC)',\n",
    "                                                4: '2-Corticomedullary Junction(CMJ)',\n",
    "                                                5: '1-Medulla(SP T,mTEC,DC)',\n",
    "                                                6: '6-Connective tissue capsule(fibroblast)',\n",
    "                                                7: '8-Connective tissue capsule(fibroblast,RBC,myeloid)',\n",
    "                                                8: '3-Inner cortex region 1(DN T,DP T,cTEC)'\n",
    "                                                }, inplace=True)"
   ]
  },
  {
   "cell_type": "code",
   "execution_count": null,
   "metadata": {},
   "outputs": [],
   "source": [
    "list_ = ['3-Inner cortex region 1(DN T,DP T,cTEC)','2-Corticomedullary Junction(CMJ)','4-Middle cortex region 2(DN T,DP T,cTEC)',\n",
    "         '7-Subcapsular zone(DN T)', '5-Outer cortex region 3(DN T,DP T,cTEC)', '8-Connective tissue capsule(fibroblast,RBC,myeloid)',\n",
    "         '1-Medulla(SP T,mTEC,DC)','6-Connective tissue capsule(fibroblast)']\n",
    "adata.obs['SpatialGlue']  = pd.Categorical(adata.obs['SpatialGlue'],\n",
    "                      categories=list_,\n",
    "                      ordered=True)"
   ]
  },
  {
   "cell_type": "code",
   "execution_count": null,
   "metadata": {},
   "outputs": [],
   "source": [
    "# plotting with annotation\n",
    "fig, ax_list = plt.subplots(1, 2, figsize=(9.5, 3))\n",
    "sc.pp.neighbors(adata, use_rep='SpatialGlue', n_neighbors=30)\n",
    "sc.tl.umap(adata)\n",
    "\n",
    "sc.pl.umap(adata, color='SpatialGlue', ax=ax_list[0], title='SpatialGlue', s=10, show=False)\n",
    "sc.pl.embedding(adata, basis='spatial', color='SpatialGlue', ax=ax_list[1], title='SpatialGlue', s=20, show=False)\n",
    "\n",
    "ax_list[0].get_legend().remove()\n",
    "\n",
    "plt.tight_layout(w_pad=0.3)\n",
    "plt.show()"
   ]
  },
  {
   "cell_type": "code",
   "execution_count": null,
   "metadata": {},
   "outputs": [],
   "source": [
    "# Exchange attention weights corresponding to annotations\n",
    "list_SpatialGlue = [5,4,8,3,1,6,2,7]\n",
    "adata.obs['SpatialGlue_number']  = pd.Categorical(adata.obs['SpatialGlue_number'],\n",
    "                      categories=list_SpatialGlue,\n",
    "                      ordered=True)\n",
    "adata.obs['SpatialGlue_number'].cat.rename_categories({5:1,\n",
    "                                                       4:2,\n",
    "                                                       8:3,\n",
    "                                                       3:4,\n",
    "                                                       1:5,\n",
    "                                                       6:6,\n",
    "                                                       2:7,\n",
    "                                                       7:8\n",
    "                                                }, inplace=True)"
   ]
  },
  {
   "cell_type": "code",
   "execution_count": null,
   "metadata": {},
   "outputs": [],
   "source": [
    "# plotting modality weight values.\n",
    "import pandas as pd\n",
    "import seaborn as sns\n",
    "plt.rcParams['figure.figsize'] = (5,3)\n",
    "df = pd.DataFrame(columns=['RNA', 'protein', 'label'])\n",
    "df['RNA'], df['protein'] = adata.obsm['alpha'][:, 0], adata.obsm['alpha'][:, 1]\n",
    "df['label'] = adata.obs['SpatialGlue_number'].values\n",
    "df = df.set_index('label').stack().reset_index()\n",
    "df.columns = ['label_SpatialGlue', 'Modality', 'Weight value']\n",
    "ax = sns.violinplot(data=df, x='label_SpatialGlue', y='Weight value', hue=\"Modality\",\n",
    "                split=True, inner=\"quart\", linewidth=1, show=False)\n",
    "ax.set_title('RNA vs protein')\n",
    "ax.set_xlabel('SpatialGlue label')\n",
    "ax.legend(bbox_to_anchor=(1.4, 1.01), loc='upper right')\n",
    "\n",
    "plt.tight_layout(w_pad=0.05)\n",
    "#plt.show()"
   ]
  }
 ],
 "metadata": {
  "kernelspec": {
   "display_name": "pytorch-gpu",
   "language": "python",
   "name": "python3"
  },
  "language_info": {
   "codemirror_mode": {
    "name": "ipython",
    "version": 3
   },
   "file_extension": ".py",
   "mimetype": "text/x-python",
   "name": "python",
   "nbconvert_exporter": "python",
   "pygments_lexer": "ipython3",
   "version": "3.8.19"
  }
 },
 "nbformat": 4,
 "nbformat_minor": 2
}
