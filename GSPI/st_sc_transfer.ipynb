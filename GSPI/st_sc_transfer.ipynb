{
 "cells": [
  {
   "cell_type": "code",
   "execution_count": 1,
   "metadata": {},
   "outputs": [
    {
     "name": "stderr",
     "output_type": "stream",
     "text": [
      "/home/wuxinchao/software/miniconda3/envs/pytorch-gpu/lib/python3.9/site-packages/tqdm/auto.py:22: TqdmWarning: IProgress not found. Please update jupyter and ipywidgets. See https://ipywidgets.readthedocs.io/en/stable/user_install.html\n",
      "  from .autonotebook import tqdm as notebook_tqdm\n"
     ]
    }
   ],
   "source": [
    "import muon as mu\n",
    "import numpy as np\n",
    "import scanpy as sc\n",
    "import pandas as pd\n",
    "import anndata as ad\n",
    "import matplotlib.pyplot as plt"
   ]
  },
  {
   "cell_type": "code",
   "execution_count": 2,
   "metadata": {},
   "outputs": [],
   "source": [
    "# Data loading\n",
    "\n",
    "# T commit scCITE-seq data: \"../data/t_commit.h5mu\"\n",
    "# totalVI SNL_111: \"/home/wuxinchao/data/st_cite_data/totalVI_reproducibility/data/SNL_111.h5mu\"\n",
    "# 10X scCITE-seq data: \"../data/pbmc_10k_protein_v3_filtered_feature_bc_matrix.h5\"\n",
    "# Stereo CITE-seq data: \"/home/wuxinchao/data/st_cite_data/sp_mudata.h5mu\" B01825A4\n",
    "# spatial_cite-seq data: \"/home/wuxinchao/data/st_cite_data/spatial_cite_data\""
   ]
  },
  {
   "cell_type": "code",
   "execution_count": 3,
   "metadata": {},
   "outputs": [],
   "source": [
    "save_path = \"/home/wuxinchao/data/st_cite_data/totalVI_reproducibility/data/\"\n",
    "SLN_adata = ad.read(save_path + \"spleen_lymph_111.h5ad\")"
   ]
  },
  {
   "cell_type": "code",
   "execution_count": 4,
   "metadata": {},
   "outputs": [],
   "source": [
    "spatial_cite_data_path = \"/home/wuxinchao/data/st_cite_data/sp_mudata.h5mu\""
   ]
  },
  {
   "cell_type": "code",
   "execution_count": 5,
   "metadata": {},
   "outputs": [],
   "source": [
    "# sc_cite_mudata = mu.read_h5mu(sc_cite_seq_data_path)\n",
    "spatial_cite_mudata = mu.read_h5mu(spatial_cite_data_path)"
   ]
  },
  {
   "cell_type": "code",
   "execution_count": 6,
   "metadata": {},
   "outputs": [],
   "source": [
    "# align the features of two datasets\n",
    "# pre-train the model using scCITE-seq data\n",
    "# fine-tune the model using spatial CITE-seq data\n",
    "# objective is to infer the missing protein and RNA expression in spatial CITE-seq data compared to scCITE-seq data"
   ]
  },
  {
   "cell_type": "markdown",
   "metadata": {},
   "source": [
    "# 1. Preprocess the data"
   ]
  },
  {
   "cell_type": "code",
   "execution_count": 7,
   "metadata": {},
   "outputs": [
    {
     "data": {
      "text/plain": [
       "AnnData object with n_obs × n_vars = 16828 × 13553\n",
       "    obs: 'n_protein_counts', 'n_proteins', 'seurat_hash_id', 'batch_indices', 'hash_id', 'n_genes', 'percent_mito', 'leiden_subclusters', 'cell_types'\n",
       "    var: 'gene_ids', 'feature_types', 'highly_variable', 'highly_variable_mean_variance', 'encode', 'hvg_encode'\n",
       "    uns: 'protein_names', 'version'\n",
       "    obsm: 'protein_expression'"
      ]
     },
     "execution_count": 7,
     "metadata": {},
     "output_type": "execute_result"
    }
   ],
   "source": [
    "SLN_adata"
   ]
  },
  {
   "cell_type": "code",
   "execution_count": 8,
   "metadata": {},
   "outputs": [],
   "source": [
    "# filter the protein expression\n",
    "keep_pro_111 = np.array(\n",
    "    [not p.startswith(\"HTO\") for p in SLN_adata.uns[\"protein_names\"]]\n",
    ")\n",
    "SLN_adata.obsm[\"protein_expression\"] = SLN_adata.obsm[\"protein_expression\"][\n",
    "    :, keep_pro_111\n",
    "]\n",
    "SLN_adata.uns[\"protein_names\"] = SLN_adata.uns[\"protein_names\"][keep_pro_111]\n",
    "# # filter the RNA expression\n",
    "# hvg_111 = SLN_adata.var[\"hvg_encode\"]\n",
    "# dataset = SLN_adata[:, hvg_111]"
   ]
  },
  {
   "cell_type": "code",
   "execution_count": 9,
   "metadata": {},
   "outputs": [],
   "source": [
    "rna_data_111 = ad.AnnData(\n",
    "    X=SLN_adata.X,\n",
    "    obs=pd.DataFrame(index=SLN_adata.obs.index),\n",
    "    var=pd.DataFrame(index=SLN_adata.var.index),\n",
    ")"
   ]
  },
  {
   "cell_type": "code",
   "execution_count": 10,
   "metadata": {},
   "outputs": [],
   "source": [
    "# rna_data_111.var_names_make_unique()\n",
    "sc.pp.filter_cells(rna_data_111, min_genes=200)\n",
    "sc.pp.filter_genes(rna_data_111, min_cells=3)\n",
    "# annotate the group of mitochondrial genes as 'mt'\n",
    "rna_data_111.var['mt'] = rna_data_111.var_names.str.startswith('mt-')  \n",
    "sc.pp.calculate_qc_metrics(rna_data_111, qc_vars=[\"mt\"], percent_top=None, log1p=False, inplace=True)"
   ]
  },
  {
   "cell_type": "code",
   "execution_count": 11,
   "metadata": {},
   "outputs": [
    {
     "data": {
      "text/plain": [
       "13553"
      ]
     },
     "execution_count": 11,
     "metadata": {},
     "output_type": "execute_result"
    }
   ],
   "source": [
    "len(set(rna_data_111.var_names))"
   ]
  },
  {
   "cell_type": "code",
   "execution_count": 12,
   "metadata": {},
   "outputs": [],
   "source": [
    "rna_data_111.layers[\"counts\"] = rna_data_111.X.copy()"
   ]
  },
  {
   "cell_type": "code",
   "execution_count": 13,
   "metadata": {},
   "outputs": [
    {
     "name": "stderr",
     "output_type": "stream",
     "text": [
      "/home/wuxinchao/software/miniconda3/envs/pytorch-gpu/lib/python3.9/site-packages/scanpy/preprocessing/_normalization.py:170: UserWarning: Received a view of an AnnData. Making a copy.\n",
      "  view_to_actual(adata)\n"
     ]
    }
   ],
   "source": [
    "rna_data_111 = rna_data_111[rna_data_111.obs.n_genes_by_counts < 5000, :]\n",
    "sc.pp.normalize_total(rna_data_111, target_sum=1e4)\n",
    "sc.pp.log1p(rna_data_111)\n",
    "sc.pp.scale(rna_data_111, max_value=10)"
   ]
  },
  {
   "cell_type": "code",
   "execution_count": 14,
   "metadata": {},
   "outputs": [
    {
     "data": {
      "image/png": "[encoded data removed]",
      "text/plain": [
       "<Figure size 640x480 with 1 Axes>"
      ]
     },
     "metadata": {},
     "output_type": "display_data"
    }
   ],
   "source": [
    "sc.tl.pca(rna_data_111, svd_solver='arpack')\n",
    "sc.pl.pca_variance_ratio(rna_data_111, log=True)"
   ]
  },
  {
   "cell_type": "code",
   "execution_count": 15,
   "metadata": {},
   "outputs": [],
   "source": [
    "sc.pp.neighbors(rna_data_111, n_neighbors=10, n_pcs=40)\n",
    "sc.tl.umap(rna_data_111)"
   ]
  },
  {
   "cell_type": "code",
   "execution_count": 16,
   "metadata": {},
   "outputs": [],
   "source": [
    "sc.tl.leiden(rna_data_111)"
   ]
  },
  {
   "cell_type": "code",
   "execution_count": 17,
   "metadata": {},
   "outputs": [],
   "source": [
    "complete_metadata = pd.merge(rna_data_111.obs, SLN_adata.obs, left_index=True, right_index=True)"
   ]
  },
  {
   "cell_type": "code",
   "execution_count": 18,
   "metadata": {},
   "outputs": [],
   "source": [
    "rna_data_111.obs = complete_metadata"
   ]
  },
  {
   "cell_type": "code",
   "execution_count": 19,
   "metadata": {},
   "outputs": [],
   "source": [
    "protein_data_111 = ad.AnnData(\n",
    "    X=np.array(SLN_adata.obsm[\"protein_expression\"]),\n",
    "    obs=SLN_adata.obs.copy(),\n",
    "    var=SLN_adata.uns[\"protein_names\"].copy()\n",
    ")\n",
    "protein_data_111.var_names = SLN_adata.uns[\"protein_names\"]\n",
    "protein_data_111.var = protein_data_111.var.drop(columns=0)"
   ]
  },
  {
   "cell_type": "code",
   "execution_count": 20,
   "metadata": {},
   "outputs": [],
   "source": [
    "reassign_cluster_names = {\n",
    "    \"Neutrophils\": \"Myeloid\",\n",
    "    \"Plasma B\": \"B\",\n",
    "    \"Red-pulp macrophages\": \"Myeloid\",\n",
    "    \"T doublets\": \"doublets\",\n",
    "    \"Transitional B\": \"B\",\n",
    "    \"Tregs\": \"Treg\",\n",
    "    \"cDC1s\": \"DCs\",\n",
    "    \"cDC2s\": \"DCs\",\n",
    "    \"pDCs\": \"DCs\",\n",
    "    \"B doublets\": \"doublets\",\n",
    "    \"B-CD4 T cell doublets\": \"doublets\",\n",
    "    \"B-CD8 T cell doublets\": \"doublets\",\n",
    "    \"B-macrophage doublets\": \"doublets\",\n",
    "    \"B1 B\": \"B\",\n",
    "    \"CD122+ CD8 T\": \"CD8 T\",\n",
    "    \"CD4 T\": \"CD4 T\",\n",
    "    \"CD8 T\": \"CD8 T\",\n",
    "    \"Cycling B/T cells\": \"doublets\",\n",
    "    \"Erythrocytes\": \"Erythrocytes\",\n",
    "    \"GD T\": \"T\",\n",
    "    \"ICOS-high Tregs\": \"Treg\",\n",
    "    \"Activated CD4 T\": \"CD4 T\",\n",
    "    \"Ifit3-high B\": \"B\",\n",
    "    \"Ifit3-high CD4 T\": \"CD4 T\",\n",
    "    \"Ifit3-high CD8 T\": \"CD8 T\",\n",
    "    \"Low quality B cells\": \"Low quality B\",\n",
    "    \"Low quality T cells\": \"Low quality T\",\n",
    "    \"Ly6-high mono\": \"Myeloid\",\n",
    "    \"Ly6-low mono\": \"Myeloid\",\n",
    "    \"MZ B\": \"B\",\n",
    "    \"MZ/Marco-high macrophages\": \"Myeloid\",\n",
    "    \"Mature B\": \"B\",\n",
    "    \"Migratory DCs\": \"DCs\",\n",
    "    \"NK\": \"NK\",\n",
    "    \"NKT\": \"NKT\",\n",
    "}"
   ]
  },
  {
   "cell_type": "code",
   "execution_count": 21,
   "metadata": {},
   "outputs": [],
   "source": [
    "rna_data_111.obs[\"combined_cell_types\"] = rna_data_111.obs[\"cell_types\"].map(reassign_cluster_names)"
   ]
  },
  {
   "cell_type": "code",
   "execution_count": 22,
   "metadata": {},
   "outputs": [
    {
     "data": {
      "text/plain": [
       "index\n",
       "AAACCCAAGGGTAATT-1    0\n",
       "AAACCCAAGGTAAACT-1    0\n",
       "AAACCCACACTAGGTT-1    0\n",
       "AAACCCACAGATACCT-1    0\n",
       "AAACCCACAGGAATAT-1    0\n",
       "                     ..\n",
       "TTTGTTGGTAAGATCA-2    1\n",
       "TTTGTTGGTCAGACTT-2    1\n",
       "TTTGTTGGTGTTTACG-2    1\n",
       "TTTGTTGTCAGAATAG-2    1\n",
       "TTTGTTGTCGAGTGGA-2    1\n",
       "Name: batch_indices, Length: 16814, dtype: int64"
      ]
     },
     "execution_count": 22,
     "metadata": {},
     "output_type": "execute_result"
    }
   ],
   "source": [
    "rna_data_111.obs[\"batch_indices\"]"
   ]
  },
  {
   "cell_type": "code",
   "execution_count": 23,
   "metadata": {},
   "outputs": [
    {
     "name": "stderr",
     "output_type": "stream",
     "text": [
      "/home/wuxinchao/software/miniconda3/envs/pytorch-gpu/lib/python3.9/site-packages/anndata/_core/anndata.py:1235: ImplicitModificationWarning: Trying to modify attribute `.obs` of view, initializing view as actual.\n",
      "  df[key] = c\n"
     ]
    },
    {
     "name": "stderr",
     "output_type": "stream",
     "text": [
      "/home/wuxinchao/software/miniconda3/envs/pytorch-gpu/lib/python3.9/site-packages/scanpy/plotting/_tools/scatterplots.py:392: UserWarning: No data for colormapping provided via 'c'. Parameters 'cmap' will be ignored\n",
      "  cax = scatter(\n"
     ]
    },
    {
     "data": {
      "image/png": "[encoded data removed]",
      "text/plain": [
       "<Figure size 640x480 with 1 Axes>"
      ]
     },
     "metadata": {},
     "output_type": "display_data"
    }
   ],
   "source": [
    "sc.pl.embedding(\n",
    "    rna_data_111[rna_data_111.obs[\"batch_indices\"] == 0],\n",
    "    basis=\"X_umap\",\n",
    "    layer=\"rna_denoised\",\n",
    "    color=[\"combined_cell_types\"],\n",
    "    frameon=False,\n",
    "    ncols=1,\n",
    ")"
   ]
  },
  {
   "cell_type": "code",
   "execution_count": 24,
   "metadata": {},
   "outputs": [
    {
     "data": {
      "text/html": [
       "<pre>MuData object with n_obs × n_vars = 16828 × 13663\n",
       "  2 modalities\n",
       "    rna:\t16814 x 13553\n",
       "      obs:\t&#x27;n_genes_x&#x27;, &#x27;n_genes_by_counts&#x27;, &#x27;total_counts&#x27;, &#x27;total_counts_mt&#x27;, &#x27;pct_counts_mt&#x27;, &#x27;leiden&#x27;, &#x27;n_protein_counts&#x27;, &#x27;n_proteins&#x27;, &#x27;seurat_hash_id&#x27;, &#x27;batch_indices&#x27;, &#x27;hash_id&#x27;, &#x27;n_genes_y&#x27;, &#x27;percent_mito&#x27;, &#x27;leiden_subclusters&#x27;, &#x27;cell_types&#x27;, &#x27;combined_cell_types&#x27;\n",
       "      var:\t&#x27;n_cells&#x27;, &#x27;mt&#x27;, &#x27;n_cells_by_counts&#x27;, &#x27;mean_counts&#x27;, &#x27;pct_dropout_by_counts&#x27;, &#x27;total_counts&#x27;, &#x27;mean&#x27;, &#x27;std&#x27;\n",
       "      uns:\t&#x27;log1p&#x27;, &#x27;pca&#x27;, &#x27;neighbors&#x27;, &#x27;umap&#x27;, &#x27;leiden&#x27;\n",
       "      obsm:\t&#x27;X_pca&#x27;, &#x27;X_umap&#x27;\n",
       "      varm:\t&#x27;PCs&#x27;\n",
       "      layers:\t&#x27;counts&#x27;\n",
       "      obsp:\t&#x27;distances&#x27;, &#x27;connectivities&#x27;\n",
       "    protein:\t16828 x 110\n",
       "      obs:\t&#x27;n_protein_counts&#x27;, &#x27;n_proteins&#x27;, &#x27;seurat_hash_id&#x27;, &#x27;batch_indices&#x27;, &#x27;hash_id&#x27;, &#x27;n_genes&#x27;, &#x27;percent_mito&#x27;, &#x27;leiden_subclusters&#x27;, &#x27;cell_types&#x27;</pre>"
      ],
      "text/plain": [
       "MuData object with n_obs × n_vars = 16828 × 13663\n",
       "  2 modalities\n",
       "    rna:\t16814 x 13553\n",
       "      obs:\t'n_genes_x', 'n_genes_by_counts', 'total_counts', 'total_counts_mt', 'pct_counts_mt', 'leiden', 'n_protein_counts', 'n_proteins', 'seurat_hash_id', 'batch_indices', 'hash_id', 'n_genes_y', 'percent_mito', 'leiden_subclusters', 'cell_types', 'combined_cell_types'\n",
       "      var:\t'n_cells', 'mt', 'n_cells_by_counts', 'mean_counts', 'pct_dropout_by_counts', 'total_counts', 'mean', 'std'\n",
       "      uns:\t'log1p', 'pca', 'neighbors', 'umap', 'leiden'\n",
       "      obsm:\t'X_pca', 'X_umap'\n",
       "      varm:\t'PCs'\n",
       "      layers:\t'counts'\n",
       "      obsp:\t'distances', 'connectivities'\n",
       "    protein:\t16828 x 110\n",
       "      obs:\t'n_protein_counts', 'n_proteins', 'seurat_hash_id', 'batch_indices', 'hash_id', 'n_genes', 'percent_mito', 'leiden_subclusters', 'cell_types'"
      ]
     },
     "execution_count": 24,
     "metadata": {},
     "output_type": "execute_result"
    }
   ],
   "source": [
    "mdata = mu.MuData({\n",
    "    \"rna\": rna_data_111,\n",
    "    \"protein\": protein_data_111,\n",
    "})\n",
    "mdata"
   ]
  },
  {
   "cell_type": "code",
   "execution_count": 25,
   "metadata": {},
   "outputs": [],
   "source": [
    "mdata.write_h5mu(save_path + \"SLN_111.h5mu\")"
   ]
  },
  {
   "cell_type": "markdown",
   "metadata": {},
   "source": [
    "# 2. Align the features of two datasets\n",
    "Find the common features of two datasets  \n",
    "Integrate the two batches of data through the GSPI\n",
    "\n",
    "The objective is to integrate the batches of datasets that cells labeled with the same cell type are close to each other in the embedding space.\n",
    "\n",
    "The metrics should be used to evaluate the centrality of the cells and their neighbors in the embedding space."
   ]
  },
  {
   "cell_type": "code",
   "execution_count": 33,
   "metadata": {},
   "outputs": [],
   "source": [
    "import torch\n",
    "import muon as mu\n",
    "from dataset import GeneVocab\n",
    "from dataset import SinglecellData\n",
    "from torch_geometric.data import Data\n",
    "from torch_geometric.transforms import RandomNodeSplit\n",
    "\n",
    "save_path = \"/home/wuxinchao/data/st_cite_data/totalVI_reproducibility/data/\"\n",
    "mdata = mu.read_h5mu(save_path + \"SLN_111.h5mu\")"
   ]
  },
  {
   "cell_type": "code",
   "execution_count": 34,
   "metadata": {},
   "outputs": [
    {
     "data": {
      "text/plain": [
       "AnnData object with n_obs × n_vars = 16814 × 13553\n",
       "    obs: 'n_genes_x', 'n_genes_by_counts', 'total_counts', 'total_counts_mt', 'pct_counts_mt', 'leiden', 'n_protein_counts', 'n_proteins', 'seurat_hash_id', 'batch_indices', 'hash_id', 'n_genes_y', 'percent_mito', 'leiden_subclusters', 'cell_types', 'combined_cell_types'\n",
       "    var: 'n_cells', 'mt', 'n_cells_by_counts', 'mean_counts', 'pct_dropout_by_counts', 'total_counts', 'mean', 'std'\n",
       "    uns: 'leiden', 'log1p', 'neighbors', 'pca', 'umap'\n",
       "    obsm: 'X_pca', 'X_umap'\n",
       "    varm: 'PCs'\n",
       "    layers: 'counts'\n",
       "    obsp: 'connectivities', 'distances'"
      ]
     },
     "execution_count": 34,
     "metadata": {},
     "output_type": "execute_result"
    }
   ],
   "source": [
    "mdata.mod['rna']"
   ]
  },
  {
   "cell_type": "code",
   "execution_count": 27,
   "metadata": {},
   "outputs": [],
   "source": [
    "gene_dict = {\n",
    "    \"Atn1-1\": \"Atn1\",\n",
    "    \"Dancr-1\": \"Dancr\",\n",
    "    \"Gbp6-1\": \"Gbp6\",\n",
    "    \"Hist2h2bb-1\": \"Hist2h2bb\",\n",
    "    \"Itgam-1\": \"Itgam\",\n",
    "    \"Pcdhga8-1\": \"Pcdhga8\",\n",
    "    \"Smim20-1\": \"Smim20\",\n",
    "    \"U2af1l4-1\": \"U2af1l4\",\n",
    "}"
   ]
  },
  {
   "cell_type": "code",
   "execution_count": 28,
   "metadata": {},
   "outputs": [],
   "source": [
    "rna_adata = mdata.mod[\"rna\"]\n",
    "\n",
    "# replace var_names using gene_dict\n",
    "for k, v in gene_dict.items():\n",
    "    rna_adata.var_names = rna_adata.var_names.str.replace(k, v)"
   ]
  },
  {
   "cell_type": "code",
   "execution_count": 29,
   "metadata": {},
   "outputs": [],
   "source": [
    "gtf_path = \"/DATA/User/wuxinchao/st_cite_data/ref/Mus_musculus.GRCm38.84.gtf\"\n",
    "geneVocab = GeneVocab(mdata.mod['rna'])\n",
    "geneVocab.sort_by_genomic_position(gtf_path)"
   ]
  },
  {
   "cell_type": "code",
   "execution_count": 38,
   "metadata": {},
   "outputs": [
    {
     "name": "stderr",
     "output_type": "stream",
     "text": [
      "/DATA/User/wuxinchao/project/spatial-CITE-seq/sc_st_attention_integration/GSPI/dataset.py:83: FutureWarning: X.dtype being converted to np.float32 from float64. In the next version of anndata (0.9) conversion will not be automatic. Pass dtype explicitly to avoid this warning. Pass `AnnData(X, dtype=X.dtype, ...)` to get the future behavour.\n",
      "  adata_new = ad.AnnData(adata_new_df.values, obs=adata_new.obs, var=adata_new_var_df)\n"
     ]
    }
   ],
   "source": [
    "sc_rna_data = geneVocab.align_features(mdata.mod['rna'])\n",
    "sc_prot_data = mdata.mod['protein'][mdata.mod['rna'].obs_names]"
   ]
  },
  {
   "cell_type": "code",
   "execution_count": 40,
   "metadata": {},
   "outputs": [],
   "source": [
    "sc_rna_data.obsp = mdata.mod['rna'].obsp"
   ]
  },
  {
   "cell_type": "code",
   "execution_count": 41,
   "metadata": {},
   "outputs": [
    {
     "name": "stderr",
     "output_type": "stream",
     "text": [
      "/DATA/User/wuxinchao/project/spatial-CITE-seq/sc_st_attention_integration/GSPI/dataset.py:138: UserWarning: Creating a tensor from a list of numpy.ndarrays is extremely slow. Please consider converting the list to a single numpy.ndarray with numpy.array() before converting to a tensor. (Triggered internally at ../torch/csrc/utils/tensor_new.cpp:245.)\n",
      "  edge_index = torch.tensor(edge_index, dtype=torch.long).contiguous()\n"
     ]
    }
   ],
   "source": [
    "model_choice = \"Graph Cross Attention\"\n",
    "\n",
    "rna_input_dim = mdata.mod['rna'].X.shape[1]\n",
    "prot_input_dim = mdata.mod['protein'].X.shape[1]\n",
    "\n",
    "hidden_dim = 32\n",
    "embedding_dim = 32\n",
    "heads = 4\n",
    "num_blocks = 2\n",
    "permute = False\n",
    "preserve_rate = 0.2\n",
    "alpha = 0.4\n",
    "beta = 0.4\n",
    "\n",
    "# setting for the trainer\n",
    "batch_size = 256\n",
    "lr = 1e-3\n",
    "epochs = 50\n",
    "mask_ratio = 0.85\n",
    "num_splits = 2\n",
    "device = torch.device(\n",
    "    'cuda' if torch.cuda.is_available() else 'cpu')\n",
    "\n",
    "scData = SinglecellData(mdata, geneVocab)\n",
    "\n",
    "num_splits = 2\n",
    "num_val = 0.2\n",
    "num_test = 0.2\n",
    "\n",
    "tsf = RandomNodeSplit(\n",
    "    num_splits=num_splits, \n",
    "    num_val=num_val, \n",
    "    num_test=num_test, \n",
    "    key=None\n",
    ")\n",
    "\n",
    "training_data = tsf(scData.data)"
   ]
  },
  {
   "cell_type": "code",
   "execution_count": 42,
   "metadata": {},
   "outputs": [
    {
     "name": "stdout",
     "output_type": "stream",
     "text": [
      "Epoch 1/50 train_loss: 335978.96094 val_loss: 70714.37378\n",
      "Epoch 2/50 train_loss: 195943.37183 val_loss: 51921.37915\n",
      "Epoch 3/50 train_loss: 114232.48407 val_loss: 34414.95392\n",
      "Epoch 4/50 train_loss: 103854.98407 val_loss: 33476.46179\n",
      "Epoch 5/50 train_loss: 100277.61304 val_loss: 32808.69958\n",
      "Epoch 6/50 train_loss: 87865.49097 val_loss: 27211.38037\n",
      "Epoch 7/50 train_loss: 70240.55597 val_loss: 22891.38354\n",
      "Epoch 8/50 train_loss: 58502.98871 val_loss: 19640.53195\n",
      "Epoch 9/50 train_loss: 50702.47012 val_loss: 18915.23065\n",
      "Epoch 10/50 train_loss: 47841.93439 val_loss: 17846.76501\n",
      "Epoch 11/50 train_loss: 45847.78784 val_loss: 18367.99432\n",
      "Epoch 12/50 train_loss: 44376.16913 val_loss: 17959.02069\n",
      "Epoch 13/50 train_loss: 43588.39175 val_loss: 17477.19284\n",
      "Epoch 14/50 train_loss: 42896.68484 val_loss: 17357.80957\n",
      "Epoch 15/50 train_loss: 40485.08051 val_loss: 16783.55872\n",
      "Epoch 16/50 train_loss: 38714.07986 val_loss: 15903.87122\n",
      "Epoch 17/50 train_loss: 35461.31284 val_loss: 15237.95935\n",
      "Epoch 18/50 train_loss: 33453.04410 val_loss: 14451.50995\n",
      "Epoch 19/50 train_loss: 31229.74106 val_loss: 13775.68649\n",
      "Epoch 20/50 train_loss: 28215.03374 val_loss: 13250.76904\n",
      "Epoch 21/50 train_loss: 26718.72758 val_loss: 12729.85373\n",
      "Epoch 22/50 train_loss: 25763.32095 val_loss: 12535.61697\n",
      "Epoch 23/50 train_loss: 24785.10114 val_loss: 12482.32547\n",
      "Epoch 24/50 train_loss: 24179.17570 val_loss: 11969.18353\n",
      "Epoch 25/50 train_loss: 23497.75877 val_loss: 12089.33817\n",
      "Epoch 26/50 train_loss: 22733.11702 val_loss: 11615.01419\n",
      "Epoch 27/50 train_loss: 22043.84518 val_loss: 11284.02103\n",
      "Epoch 28/50 train_loss: 21231.56602 val_loss: 11149.46158\n",
      "Epoch 29/50 train_loss: 20730.47583 val_loss: 11049.58688\n",
      "Epoch 30/50 train_loss: 19980.42854 val_loss: 10700.13824\n",
      "Epoch 31/50 train_loss: 19513.36537 val_loss: 10689.93130\n",
      "Epoch 32/50 train_loss: 18999.27306 val_loss: 10553.24731\n",
      "Epoch 33/50 train_loss: 18436.42667 val_loss: 10541.17313\n",
      "Epoch 34/50 train_loss: 18244.20590 val_loss: 10338.71228\n",
      "Epoch 35/50 train_loss: 17719.47127 val_loss: 10086.31369\n",
      "Epoch 36/50 train_loss: 17104.15463 val_loss: 10121.18137\n",
      "Epoch 37/50 train_loss: 16673.32056 val_loss: 9828.59601\n",
      "Epoch 38/50 train_loss: 15979.67741 val_loss: 10196.57846\n",
      "Epoch 39/50 train_loss: 15561.89867 val_loss: 9961.29044\n",
      "Epoch 40/50 train_loss: 14826.86783 val_loss: 9735.14185\n",
      "Epoch 41/50 train_loss: 14466.93970 val_loss: 9774.84354\n",
      "Epoch 42/50 train_loss: 14050.14867 val_loss: 9747.38322\n",
      "Epoch 43/50 train_loss: 13285.35760 val_loss: 9404.25439\n",
      "Epoch 44/50 train_loss: 13190.02711 val_loss: 9437.21274\n",
      "Epoch 45/50 train_loss: 12756.93572 val_loss: 9663.67374\n",
      "Epoch 46/50 train_loss: 12562.07687 val_loss: 9663.93747\n",
      "Epoch 47/50 train_loss: 11840.48936 val_loss: 9639.50931\n",
      "Epoch 48/50 train_loss: 11849.63955 val_loss: 9484.90630\n",
      "Epoch 49/50 train_loss: 11468.80892 val_loss: 9478.84505\n",
      "Epoch 50/50 train_loss: 11443.57478 val_loss: 9578.00124\n",
      "Epoch 1/50 train_loss: 332207.65259 val_loss: 79026.90820\n",
      "Epoch 2/50 train_loss: 164398.29749 val_loss: 43585.93445\n",
      "Epoch 3/50 train_loss: 108051.91040 val_loss: 41429.89453\n",
      "Epoch 4/50 train_loss: 103858.54822 val_loss: 37869.30957\n",
      "Epoch 5/50 train_loss: 98082.68201 val_loss: 35499.04950\n",
      "Epoch 6/50 train_loss: 80010.43115 val_loss: 28877.61920\n",
      "Epoch 7/50 train_loss: 68923.60724 val_loss: 26801.63336\n",
      "Epoch 8/50 train_loss: 64956.11981 val_loss: 25872.84961\n",
      "Epoch 9/50 train_loss: 62197.59161 val_loss: 24373.38013\n",
      "Epoch 10/50 train_loss: 53390.56390 val_loss: 20849.42444\n",
      "Epoch 11/50 train_loss: 48168.27188 val_loss: 19951.06110\n",
      "Epoch 12/50 train_loss: 46537.56427 val_loss: 19902.10779\n",
      "Epoch 13/50 train_loss: 44711.41681 val_loss: 18732.31079\n",
      "Epoch 14/50 train_loss: 42056.20312 val_loss: 17964.37677\n",
      "Epoch 15/50 train_loss: 37880.03320 val_loss: 16602.70618\n",
      "Epoch 16/50 train_loss: 34990.28616 val_loss: 15409.16357\n",
      "Epoch 17/50 train_loss: 33072.21280 val_loss: 15775.77402\n",
      "Epoch 18/50 train_loss: 31392.40033 val_loss: 14869.92749\n",
      "Epoch 19/50 train_loss: 29067.68118 val_loss: 14106.72025\n",
      "Epoch 20/50 train_loss: 27194.84247 val_loss: 13539.72104\n",
      "Epoch 21/50 train_loss: 26188.31479 val_loss: 13067.50580\n",
      "Epoch 22/50 train_loss: 25234.31885 val_loss: 13807.92435\n",
      "Epoch 23/50 train_loss: 24644.39145 val_loss: 13300.03571\n",
      "Epoch 24/50 train_loss: 24359.16222 val_loss: 12743.35043\n",
      "Epoch 25/50 train_loss: 23365.27089 val_loss: 12515.59451\n",
      "Epoch 26/50 train_loss: 22897.40550 val_loss: 13242.50864\n",
      "Epoch 27/50 train_loss: 22309.66405 val_loss: 12735.64807\n",
      "Epoch 28/50 train_loss: 21166.42451 val_loss: 12142.46854\n",
      "Epoch 29/50 train_loss: 19881.79321 val_loss: 11663.79727\n",
      "Epoch 30/50 train_loss: 19058.52303 val_loss: 11803.67059\n",
      "Epoch 31/50 train_loss: 18359.36078 val_loss: 11363.95776\n",
      "Epoch 32/50 train_loss: 17520.60289 val_loss: 11444.82217\n",
      "Epoch 33/50 train_loss: 16611.74025 val_loss: 11071.58066\n",
      "Epoch 34/50 train_loss: 16195.47055 val_loss: 11174.86020\n",
      "Epoch 35/50 train_loss: 15611.70045 val_loss: 10899.76135\n",
      "Epoch 36/50 train_loss: 14861.06621 val_loss: 10616.49512\n",
      "Epoch 37/50 train_loss: 14553.45935 val_loss: 10622.70938\n",
      "Epoch 38/50 train_loss: 13919.55771 val_loss: 10738.69299\n",
      "Epoch 39/50 train_loss: 13481.01521 val_loss: 10736.68948\n",
      "Epoch 40/50 train_loss: 13118.73161 val_loss: 10438.12411\n",
      "Epoch 41/50 train_loss: 12828.42353 val_loss: 10276.63660\n",
      "Epoch 42/50 train_loss: 12735.27112 val_loss: 10406.10367\n",
      "Epoch 43/50 train_loss: 12455.41330 val_loss: 9803.97568\n",
      "Epoch 44/50 train_loss: 12374.17210 val_loss: 10291.37701\n",
      "Epoch 45/50 train_loss: 12229.15278 val_loss: 10107.22839\n",
      "Epoch 46/50 train_loss: 11818.44170 val_loss: 10251.71130\n",
      "Epoch 47/50 train_loss: 11705.77066 val_loss: 9940.17572\n",
      "Epoch 48/50 train_loss: 11572.97226 val_loss: 10280.50201\n",
      "Epoch 49/50 train_loss: 11562.49088 val_loss: 10386.96262\n",
      "Epoch 50/50 train_loss: 11380.89356 val_loss: 9988.72395\n",
      "Best model saved at split 0\n"
     ]
    }
   ],
   "source": [
    "from train import Trainer\n",
    "import torch\n",
    "\n",
    "device = torch.device(\"cuda\" if torch.cuda.is_available() else \"cpu\")\n",
    "trainer = Trainer(\n",
    "    training_data,\n",
    "    model_choice=model_choice, \n",
    "    rna_input_dim=rna_input_dim, \n",
    "    prot_input_dim=prot_input_dim,\n",
    "    hidden_dim=hidden_dim,\n",
    "    embedding_dim=embedding_dim,\n",
    "    heads=heads,\n",
    "    num_blocks=num_blocks, \n",
    "    batch_size=batch_size,\n",
    "    lr=lr,\n",
    "    epochs=epochs,\n",
    "    mask_ratio=mask_ratio,\n",
    "    permute=permute,\n",
    "    preserve_rate=preserve_rate,\n",
    "    num_splits=num_splits,\n",
    "    device=device,\n",
    "    alpha=alpha,\n",
    "    beta=beta,\n",
    ")\n",
    "\n",
    "train_losses, val_losses = trainer.train()"
   ]
  },
  {
   "cell_type": "code",
   "execution_count": 43,
   "metadata": {},
   "outputs": [],
   "source": [
    "# save the best model parameters\n",
    "save_dict = {\n",
    "    \"model\": trainer.best_model.state_dict(),\n",
    "    \"optimizer\": trainer.optimizer.state_dict(),\n",
    "}\n",
    "torch.save(save_dict, \"../save_model/best_model.pt\")"
   ]
  },
  {
   "cell_type": "markdown",
   "metadata": {},
   "source": [
    "# 3. Transfer the scCITE-seq data to spCITE-seq data"
   ]
  },
  {
   "cell_type": "markdown",
   "metadata": {},
   "source": [
    "What should be done to the spatial data?\n",
    "\n",
    "1. Impute the missing values and infer the real values for the spatial data?\n",
    "2. Impute the missing protein values and infer the real values for the spatial data?\n",
    "3. Check the embedding space of the spatial data and the scCITE-seq data, and find the corresponding cells in the embedding space that are close to each other."
   ]
  },
  {
   "cell_type": "code",
   "execution_count": 44,
   "metadata": {},
   "outputs": [],
   "source": [
    "sp_data_path = \"/home/wuxinchao/data/st_cite_data/\"\n",
    "sp_mudata = mu.read_h5mu(sp_data_path + \"sp_mudata.h5mu\")\n",
    "rna_adata = sp_mudata.mod[\"rna\"]\n",
    "prot_adata = sp_mudata.mod[\"prot\"]"
   ]
  },
  {
   "cell_type": "code",
   "execution_count": 45,
   "metadata": {},
   "outputs": [
    {
     "name": "stderr",
     "output_type": "stream",
     "text": [
      "/DATA/User/wuxinchao/project/spatial-CITE-seq/sc_st_attention_integration/GSPI/dataset.py:83: FutureWarning: X.dtype being converted to np.float32 from float64. In the next version of anndata (0.9) conversion will not be automatic. Pass dtype explicitly to avoid this warning. Pass `AnnData(X, dtype=X.dtype, ...)` to get the future behavour.\n",
      "  adata_new = ad.AnnData(adata_new_df.values, obs=adata_new.obs, var=adata_new_var_df)\n"
     ]
    }
   ],
   "source": [
    "rna_adata = geneVocab.align_features(rna_adata)"
   ]
  },
  {
   "cell_type": "code",
   "execution_count": 49,
   "metadata": {},
   "outputs": [
    {
     "data": {
      "text/plain": [
       "AnnData object with n_obs × n_vars = 8628 × 10\n",
       "    obsm: 'spatial'"
      ]
     },
     "execution_count": 49,
     "metadata": {},
     "output_type": "execute_result"
    }
   ],
   "source": [
    "prot_adata"
   ]
  },
  {
   "cell_type": "code",
   "execution_count": 54,
   "metadata": {},
   "outputs": [
    {
     "data": {
      "text/plain": [
       "Index(['ADT_CD102_A0104', 'ADT_CD103_A0201', 'ADT_CD106_A0226',\n",
       "       'ADT_CD115(CSF-1R)_A0105', 'ADT_CD117(c-Kit)_A0012', 'ADT_CD11a_A0595',\n",
       "       'ADT_CD11c_A0106', 'ADT_CD122(IL-2Rb)_A0227', 'ADT_CD127(IL-7Ra)_A0198',\n",
       "       'ADT_CD134(OX-40)_A0195',\n",
       "       ...\n",
       "       'ADT_TCRVr1.1-Cr4_A0209', 'ADT_TCRVr2_A0211', 'ADT_TCRVr3_A0210',\n",
       "       'ADT_TCRbchain_A0120', 'ADT_TCRr-d_A0121',\n",
       "       'ADT_TER-119-ErythroidCells_A0122', 'ADT_Tim-4_A0567', 'ADT_XCR1_A0568',\n",
       "       'ADT_anti-P2RY12_A0415', 'ADT_integrinb7_A0214'],\n",
       "      dtype='object', length=110)"
      ]
     },
     "execution_count": 54,
     "metadata": {},
     "output_type": "execute_result"
    }
   ],
   "source": [
    "mdata.mod['protein'].var_names"
   ]
  },
  {
   "cell_type": "code",
   "execution_count": 55,
   "metadata": {},
   "outputs": [
    {
     "data": {
      "text/plain": [
       "Index(['mouse_rat_human_CD27_prot', 'mouse_CD11c_prot', 'mouse_CD8a_prot',\n",
       "       'mouse_CD68_prot', 'mouse_CD90_2_prot', 'mouse_CD3_prot',\n",
       "       'mouse_human_CD44_prot', 'mouse_CD5_prot', 'mouse_CD4_prot',\n",
       "       'mouse_rat_CD29_prot'],\n",
       "      dtype='object')"
      ]
     },
     "execution_count": 55,
     "metadata": {},
     "output_type": "execute_result"
    }
   ],
   "source": [
    "prot_adata.var_names"
   ]
  }
 ],
 "metadata": {
  "kernelspec": {
   "display_name": "st",
   "language": "python",
   "name": "python3"
  },
  "language_info": {
   "codemirror_mode": {
    "name": "ipython",
    "version": 3
   },
   "file_extension": ".py",
   "mimetype": "text/x-python",
   "name": "python",
   "nbconvert_exporter": "python",
   "pygments_lexer": "ipython3",
   "version": "3.9.13"
  },
  "orig_nbformat": 4,
  "vscode": {
   "interpreter": {
    "hash": "a42df3495690ddaade82fe6da7f44c228773db6ef55a81501e943156db4ea9a9"
   }
  }
 },
 "nbformat": 4,
 "nbformat_minor": 2
}
