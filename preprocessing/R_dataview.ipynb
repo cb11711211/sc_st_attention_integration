{
 "cells": [
  {
   "cell_type": "code",
   "execution_count": 1,
   "id": "4f6d2495-b692-4d77-b67e-27fb0a326672",
   "metadata": {},
   "outputs": [
    {
     "name": "stderr",
     "output_type": "stream",
     "text": [
      "载入需要的程辑包：SeuratObject\n",
      "\n",
      "载入需要的程辑包：sp\n",
      "\n",
      "\n",
      "载入程辑包：‘SeuratObject’\n",
      "\n",
      "\n",
      "The following objects are masked from ‘package:base’:\n",
      "\n",
      "    intersect, saveRDS\n",
      "\n",
      "\n",
      "Loading Seurat v5 beta version \n",
      "To maintain compatibility with previous workflows, new Seurat objects will use the previous object structure by default\n",
      "To use new Seurat v5 assays: Please run: options(Seurat.object.assay.version = 'v5')\n",
      "\n",
      "Registered S3 method overwritten by 'SeuratDisk':\n",
      "  method            from  \n",
      "  as.sparse.H5Group Seurat\n",
      "\n"
     ]
    }
   ],
   "source": [
    "library(\"Seurat\")\n",
    "library(\"SeuratDisk\")"
   ]
  },
  {
   "cell_type": "code",
   "execution_count": 2,
   "id": "a135d0e6-8073-4622-ae65-a4251acd8c8c",
   "metadata": {},
   "outputs": [
    {
     "name": "stderr",
     "output_type": "stream",
     "text": [
      "Warning message:\n",
      "“Unknown file type: h5ad”\n",
      "Warning message:\n",
      "“'assay' not set, setting to 'RNA'”\n",
      "Creating h5Seurat file for version 3.1.5.9900\n",
      "\n"
     ]
    },
    {
     "ename": "ERROR",
     "evalue": "Error in `[[.H5File`(source, \"X\"): An object with name X does not exist in this group\n",
     "output_type": "error",
     "traceback": [
      "Error in `[[.H5File`(source, \"X\"): An object with name X does not exist in this group\nTraceback:\n",
      "1. Convert(data_path, dest = \"h5seurat\", overwrite = TRUE)",
      "2. Convert.character(data_path, dest = \"h5seurat\", overwrite = TRUE)",
      "3. Convert(source = hfile, dest = dest, assay = assay, overwrite = overwrite, \n .     verbose = verbose, ...)",
      "4. Convert.H5File(source = hfile, dest = dest, assay = assay, overwrite = overwrite, \n .     verbose = verbose, ...)",
      "5. H5ADToH5Seurat(source = source, dest = dest, assay = assay, overwrite = overwrite, \n .     verbose = verbose)",
      "6. source[[\"X\"]]",
      "7. `[[.H5File`(source, \"X\")",
      "8. stop(paste(\"An object with name\", name, \"does not exist in this group\"))"
     ]
    }
   ],
   "source": [
    "data_path = \"/home/wuxinchao/data/project/spatial-CITE-seq/mid_result/B01825A4_rna.h5ad\"\n",
    "Convert(data_path, dest=\"h5seurat\", overwrite=TRUE)\n",
    "# data = LoadH5Seurat(\"B0\")"
   ]
  },
  {
   "cell_type": "code",
   "execution_count": null,
   "id": "1494a2ee-00d0-4f9d-8561-18cf0203cbb4",
   "metadata": {},
   "outputs": [],
   "source": []
  },
  {
   "cell_type": "code",
   "execution_count": null,
   "id": "7c7ce320-0fed-4a88-a823-db23d76b09f8",
   "metadata": {},
   "outputs": [],
   "source": []
  }
 ],
 "metadata": {
  "kernelspec": {
   "display_name": "R",
   "language": "R",
   "name": "ir"
  },
  "language_info": {
   "codemirror_mode": "r",
   "file_extension": ".r",
   "mimetype": "text/x-r-source",
   "name": "R",
   "pygments_lexer": "r",
   "version": "4.2.0"
  }
 },
 "nbformat": 4,
 "nbformat_minor": 5
}
